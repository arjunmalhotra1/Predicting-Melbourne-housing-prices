{
 "cells": [
  {
   "cell_type": "code",
   "execution_count": 65,
   "metadata": {},
   "outputs": [
    {
     "data": {
      "text/plain": [
       "(14246, 19)"
      ]
     },
     "execution_count": 65,
     "metadata": {},
     "output_type": "execute_result"
    }
   ],
   "source": [
    "import pandas as pd\n",
    "import numpy as np\n",
    "from sklearn.model_selection import train_test_split\n",
    "\n",
    "\n",
    "def loading_housing_data():\n",
    "    return pd.read_csv(\"Melbourne_housing_extra_data.csv\")\n",
    "\n",
    "housing_data=loading_housing_data()\n",
    "housing_data.shape\n",
    "\n"
   ]
  },
  {
   "cell_type": "code",
   "execution_count": 66,
   "metadata": {},
   "outputs": [
    {
     "name": "stdout",
     "output_type": "stream",
     "text": [
      "<class 'pandas.core.frame.DataFrame'>\n",
      "RangeIndex: 14246 entries, 0 to 14245\n",
      "Data columns (total 19 columns):\n",
      "Suburb          14242 non-null object\n",
      "Address         14232 non-null object\n",
      "Rooms           14222 non-null float64\n",
      "Type            14222 non-null object\n",
      "Price           11069 non-null float64\n",
      "Method          14222 non-null object\n",
      "SellerG         14222 non-null object\n",
      "Date            14222 non-null object\n",
      "Distance        14222 non-null float64\n",
      "Postcode        14222 non-null float64\n",
      "Bedroom2        11202 non-null float64\n",
      "Bathroom        11202 non-null float64\n",
      "Car             11202 non-null float64\n",
      "Landsize        11185 non-null float64\n",
      "BuildingArea    6168 non-null float64\n",
      "YearBuilt       7099 non-null float64\n",
      "CouncilArea     11183 non-null object\n",
      "Lattitude       11306 non-null object\n",
      "Longtitude      11307 non-null object\n",
      "dtypes: float64(10), object(9)\n",
      "memory usage: 2.1+ MB\n"
     ]
    }
   ],
   "source": [
    "housing_data.info()"
   ]
  },
  {
   "cell_type": "code",
   "execution_count": 67,
   "metadata": {},
   "outputs": [
    {
     "data": {
      "text/plain": [
       "24"
      ]
     },
     "execution_count": 67,
     "metadata": {},
     "output_type": "execute_result"
    }
   ],
   "source": [
    "housing_data['Type'].isnull().sum()"
   ]
  },
  {
   "cell_type": "code",
   "execution_count": 68,
   "metadata": {},
   "outputs": [
    {
     "data": {
      "text/plain": [
       "4"
      ]
     },
     "execution_count": 68,
     "metadata": {},
     "output_type": "execute_result"
    }
   ],
   "source": [
    "housing_data['Suburb'].isnull().sum()"
   ]
  },
  {
   "cell_type": "code",
   "execution_count": 69,
   "metadata": {},
   "outputs": [
    {
     "data": {
      "text/html": [
       "<div>\n",
       "<style scoped>\n",
       "    .dataframe tbody tr th:only-of-type {\n",
       "        vertical-align: middle;\n",
       "    }\n",
       "\n",
       "    .dataframe tbody tr th {\n",
       "        vertical-align: top;\n",
       "    }\n",
       "\n",
       "    .dataframe thead th {\n",
       "        text-align: right;\n",
       "    }\n",
       "</style>\n",
       "<table border=\"1\" class=\"dataframe\">\n",
       "  <thead>\n",
       "    <tr style=\"text-align: right;\">\n",
       "      <th></th>\n",
       "      <th>Suburb</th>\n",
       "      <th>Address</th>\n",
       "      <th>Rooms</th>\n",
       "      <th>Type</th>\n",
       "      <th>Price</th>\n",
       "      <th>Method</th>\n",
       "      <th>SellerG</th>\n",
       "      <th>Date</th>\n",
       "      <th>Distance</th>\n",
       "      <th>Postcode</th>\n",
       "      <th>Bedroom2</th>\n",
       "      <th>Bathroom</th>\n",
       "      <th>Car</th>\n",
       "      <th>Landsize</th>\n",
       "      <th>BuildingArea</th>\n",
       "      <th>YearBuilt</th>\n",
       "      <th>CouncilArea</th>\n",
       "      <th>Lattitude</th>\n",
       "      <th>Longtitude</th>\n",
       "    </tr>\n",
       "  </thead>\n",
       "  <tbody>\n",
       "    <tr>\n",
       "      <th>1156</th>\n",
       "      <td>RE</td>\n",
       "      <td>;</td>\n",
       "      <td>NaN</td>\n",
       "      <td>NaN</td>\n",
       "      <td>NaN</td>\n",
       "      <td>NaN</td>\n",
       "      <td>NaN</td>\n",
       "      <td>NaN</td>\n",
       "      <td>NaN</td>\n",
       "      <td>NaN</td>\n",
       "      <td>NaN</td>\n",
       "      <td>NaN</td>\n",
       "      <td>NaN</td>\n",
       "      <td>NaN</td>\n",
       "      <td>NaN</td>\n",
       "      <td>NaN</td>\n",
       "      <td>NaN</td>\n",
       "      <td>NaN</td>\n",
       "      <td>NaN</td>\n",
       "    </tr>\n",
       "    <tr>\n",
       "      <th>1157</th>\n",
       "      <td>RE</td>\n",
       "      <td>NaN</td>\n",
       "      <td>NaN</td>\n",
       "      <td>NaN</td>\n",
       "      <td>NaN</td>\n",
       "      <td>NaN</td>\n",
       "      <td>NaN</td>\n",
       "      <td>NaN</td>\n",
       "      <td>NaN</td>\n",
       "      <td>NaN</td>\n",
       "      <td>NaN</td>\n",
       "      <td>NaN</td>\n",
       "      <td>NaN</td>\n",
       "      <td>NaN</td>\n",
       "      <td>NaN</td>\n",
       "      <td>NaN</td>\n",
       "      <td>NaN</td>\n",
       "      <td>NaN</td>\n",
       "      <td>NaN</td>\n",
       "    </tr>\n",
       "    <tr>\n",
       "      <th>1878</th>\n",
       "      <td>RE</td>\n",
       "      <td>;</td>\n",
       "      <td>NaN</td>\n",
       "      <td>NaN</td>\n",
       "      <td>NaN</td>\n",
       "      <td>NaN</td>\n",
       "      <td>NaN</td>\n",
       "      <td>NaN</td>\n",
       "      <td>NaN</td>\n",
       "      <td>NaN</td>\n",
       "      <td>NaN</td>\n",
       "      <td>NaN</td>\n",
       "      <td>NaN</td>\n",
       "      <td>NaN</td>\n",
       "      <td>NaN</td>\n",
       "      <td>NaN</td>\n",
       "      <td>NaN</td>\n",
       "      <td>NaN</td>\n",
       "      <td>NaN</td>\n",
       "    </tr>\n",
       "    <tr>\n",
       "      <th>1879</th>\n",
       "      <td>RE</td>\n",
       "      <td>NaN</td>\n",
       "      <td>NaN</td>\n",
       "      <td>NaN</td>\n",
       "      <td>NaN</td>\n",
       "      <td>NaN</td>\n",
       "      <td>NaN</td>\n",
       "      <td>NaN</td>\n",
       "      <td>NaN</td>\n",
       "      <td>NaN</td>\n",
       "      <td>NaN</td>\n",
       "      <td>NaN</td>\n",
       "      <td>NaN</td>\n",
       "      <td>NaN</td>\n",
       "      <td>NaN</td>\n",
       "      <td>NaN</td>\n",
       "      <td>NaN</td>\n",
       "      <td>NaN</td>\n",
       "      <td>NaN</td>\n",
       "    </tr>\n",
       "    <tr>\n",
       "      <th>2577</th>\n",
       "      <td>RE</td>\n",
       "      <td>;</td>\n",
       "      <td>NaN</td>\n",
       "      <td>NaN</td>\n",
       "      <td>NaN</td>\n",
       "      <td>NaN</td>\n",
       "      <td>NaN</td>\n",
       "      <td>NaN</td>\n",
       "      <td>NaN</td>\n",
       "      <td>NaN</td>\n",
       "      <td>NaN</td>\n",
       "      <td>NaN</td>\n",
       "      <td>NaN</td>\n",
       "      <td>NaN</td>\n",
       "      <td>NaN</td>\n",
       "      <td>NaN</td>\n",
       "      <td>NaN</td>\n",
       "      <td>NaN</td>\n",
       "      <td>NaN</td>\n",
       "    </tr>\n",
       "    <tr>\n",
       "      <th>2578</th>\n",
       "      <td>RE</td>\n",
       "      <td>NaN</td>\n",
       "      <td>NaN</td>\n",
       "      <td>NaN</td>\n",
       "      <td>NaN</td>\n",
       "      <td>NaN</td>\n",
       "      <td>NaN</td>\n",
       "      <td>NaN</td>\n",
       "      <td>NaN</td>\n",
       "      <td>NaN</td>\n",
       "      <td>NaN</td>\n",
       "      <td>NaN</td>\n",
       "      <td>NaN</td>\n",
       "      <td>NaN</td>\n",
       "      <td>NaN</td>\n",
       "      <td>NaN</td>\n",
       "      <td>NaN</td>\n",
       "      <td>NaN</td>\n",
       "      <td>NaN</td>\n",
       "    </tr>\n",
       "    <tr>\n",
       "      <th>3217</th>\n",
       "      <td>RE</td>\n",
       "      <td>;</td>\n",
       "      <td>NaN</td>\n",
       "      <td>NaN</td>\n",
       "      <td>NaN</td>\n",
       "      <td>NaN</td>\n",
       "      <td>NaN</td>\n",
       "      <td>NaN</td>\n",
       "      <td>NaN</td>\n",
       "      <td>NaN</td>\n",
       "      <td>NaN</td>\n",
       "      <td>NaN</td>\n",
       "      <td>NaN</td>\n",
       "      <td>NaN</td>\n",
       "      <td>NaN</td>\n",
       "      <td>NaN</td>\n",
       "      <td>NaN</td>\n",
       "      <td>NaN</td>\n",
       "      <td>NaN</td>\n",
       "    </tr>\n",
       "    <tr>\n",
       "      <th>3218</th>\n",
       "      <td>RE</td>\n",
       "      <td>NaN</td>\n",
       "      <td>NaN</td>\n",
       "      <td>NaN</td>\n",
       "      <td>NaN</td>\n",
       "      <td>NaN</td>\n",
       "      <td>NaN</td>\n",
       "      <td>NaN</td>\n",
       "      <td>NaN</td>\n",
       "      <td>NaN</td>\n",
       "      <td>NaN</td>\n",
       "      <td>NaN</td>\n",
       "      <td>NaN</td>\n",
       "      <td>NaN</td>\n",
       "      <td>NaN</td>\n",
       "      <td>NaN</td>\n",
       "      <td>NaN</td>\n",
       "      <td>NaN</td>\n",
       "      <td>NaN</td>\n",
       "    </tr>\n",
       "    <tr>\n",
       "      <th>3266</th>\n",
       "      <td>RE</td>\n",
       "      <td>;</td>\n",
       "      <td>NaN</td>\n",
       "      <td>NaN</td>\n",
       "      <td>NaN</td>\n",
       "      <td>NaN</td>\n",
       "      <td>NaN</td>\n",
       "      <td>NaN</td>\n",
       "      <td>NaN</td>\n",
       "      <td>NaN</td>\n",
       "      <td>NaN</td>\n",
       "      <td>NaN</td>\n",
       "      <td>NaN</td>\n",
       "      <td>NaN</td>\n",
       "      <td>NaN</td>\n",
       "      <td>NaN</td>\n",
       "      <td>NaN</td>\n",
       "      <td>NaN</td>\n",
       "      <td>NaN</td>\n",
       "    </tr>\n",
       "    <tr>\n",
       "      <th>3267</th>\n",
       "      <td>RE</td>\n",
       "      <td>NaN</td>\n",
       "      <td>NaN</td>\n",
       "      <td>NaN</td>\n",
       "      <td>NaN</td>\n",
       "      <td>NaN</td>\n",
       "      <td>NaN</td>\n",
       "      <td>NaN</td>\n",
       "      <td>NaN</td>\n",
       "      <td>NaN</td>\n",
       "      <td>NaN</td>\n",
       "      <td>NaN</td>\n",
       "      <td>NaN</td>\n",
       "      <td>NaN</td>\n",
       "      <td>NaN</td>\n",
       "      <td>NaN</td>\n",
       "      <td>NaN</td>\n",
       "      <td>NaN</td>\n",
       "      <td>NaN</td>\n",
       "    </tr>\n",
       "    <tr>\n",
       "      <th>4496</th>\n",
       "      <td>RE</td>\n",
       "      <td>;</td>\n",
       "      <td>NaN</td>\n",
       "      <td>NaN</td>\n",
       "      <td>NaN</td>\n",
       "      <td>NaN</td>\n",
       "      <td>NaN</td>\n",
       "      <td>NaN</td>\n",
       "      <td>NaN</td>\n",
       "      <td>NaN</td>\n",
       "      <td>NaN</td>\n",
       "      <td>NaN</td>\n",
       "      <td>NaN</td>\n",
       "      <td>NaN</td>\n",
       "      <td>NaN</td>\n",
       "      <td>NaN</td>\n",
       "      <td>NaN</td>\n",
       "      <td>NaN</td>\n",
       "      <td>NaN</td>\n",
       "    </tr>\n",
       "    <tr>\n",
       "      <th>4497</th>\n",
       "      <td>RE</td>\n",
       "      <td>NaN</td>\n",
       "      <td>NaN</td>\n",
       "      <td>NaN</td>\n",
       "      <td>NaN</td>\n",
       "      <td>NaN</td>\n",
       "      <td>NaN</td>\n",
       "      <td>NaN</td>\n",
       "      <td>NaN</td>\n",
       "      <td>NaN</td>\n",
       "      <td>NaN</td>\n",
       "      <td>NaN</td>\n",
       "      <td>NaN</td>\n",
       "      <td>NaN</td>\n",
       "      <td>NaN</td>\n",
       "      <td>NaN</td>\n",
       "      <td>NaN</td>\n",
       "      <td>NaN</td>\n",
       "      <td>NaN</td>\n",
       "    </tr>\n",
       "    <tr>\n",
       "      <th>5183</th>\n",
       "      <td>RE</td>\n",
       "      <td>;</td>\n",
       "      <td>NaN</td>\n",
       "      <td>NaN</td>\n",
       "      <td>NaN</td>\n",
       "      <td>NaN</td>\n",
       "      <td>NaN</td>\n",
       "      <td>NaN</td>\n",
       "      <td>NaN</td>\n",
       "      <td>NaN</td>\n",
       "      <td>NaN</td>\n",
       "      <td>NaN</td>\n",
       "      <td>NaN</td>\n",
       "      <td>NaN</td>\n",
       "      <td>NaN</td>\n",
       "      <td>NaN</td>\n",
       "      <td>NaN</td>\n",
       "      <td>NaN</td>\n",
       "      <td>NaN</td>\n",
       "    </tr>\n",
       "    <tr>\n",
       "      <th>5184</th>\n",
       "      <td>RE</td>\n",
       "      <td>NaN</td>\n",
       "      <td>NaN</td>\n",
       "      <td>NaN</td>\n",
       "      <td>NaN</td>\n",
       "      <td>NaN</td>\n",
       "      <td>NaN</td>\n",
       "      <td>NaN</td>\n",
       "      <td>NaN</td>\n",
       "      <td>NaN</td>\n",
       "      <td>NaN</td>\n",
       "      <td>NaN</td>\n",
       "      <td>NaN</td>\n",
       "      <td>NaN</td>\n",
       "      <td>NaN</td>\n",
       "      <td>NaN</td>\n",
       "      <td>NaN</td>\n",
       "      <td>NaN</td>\n",
       "      <td>NaN</td>\n",
       "    </tr>\n",
       "    <tr>\n",
       "      <th>5897</th>\n",
       "      <td>RE</td>\n",
       "      <td>;</td>\n",
       "      <td>NaN</td>\n",
       "      <td>NaN</td>\n",
       "      <td>NaN</td>\n",
       "      <td>NaN</td>\n",
       "      <td>NaN</td>\n",
       "      <td>NaN</td>\n",
       "      <td>NaN</td>\n",
       "      <td>NaN</td>\n",
       "      <td>NaN</td>\n",
       "      <td>NaN</td>\n",
       "      <td>NaN</td>\n",
       "      <td>NaN</td>\n",
       "      <td>NaN</td>\n",
       "      <td>NaN</td>\n",
       "      <td>NaN</td>\n",
       "      <td>NaN</td>\n",
       "      <td>NaN</td>\n",
       "    </tr>\n",
       "    <tr>\n",
       "      <th>5898</th>\n",
       "      <td>RE</td>\n",
       "      <td>NaN</td>\n",
       "      <td>NaN</td>\n",
       "      <td>NaN</td>\n",
       "      <td>NaN</td>\n",
       "      <td>NaN</td>\n",
       "      <td>NaN</td>\n",
       "      <td>NaN</td>\n",
       "      <td>NaN</td>\n",
       "      <td>NaN</td>\n",
       "      <td>NaN</td>\n",
       "      <td>NaN</td>\n",
       "      <td>NaN</td>\n",
       "      <td>NaN</td>\n",
       "      <td>NaN</td>\n",
       "      <td>NaN</td>\n",
       "      <td>NaN</td>\n",
       "      <td>NaN</td>\n",
       "      <td>NaN</td>\n",
       "    </tr>\n",
       "    <tr>\n",
       "      <th>6004</th>\n",
       "      <td>RE</td>\n",
       "      <td>;</td>\n",
       "      <td>NaN</td>\n",
       "      <td>NaN</td>\n",
       "      <td>NaN</td>\n",
       "      <td>NaN</td>\n",
       "      <td>NaN</td>\n",
       "      <td>NaN</td>\n",
       "      <td>NaN</td>\n",
       "      <td>NaN</td>\n",
       "      <td>NaN</td>\n",
       "      <td>NaN</td>\n",
       "      <td>NaN</td>\n",
       "      <td>NaN</td>\n",
       "      <td>NaN</td>\n",
       "      <td>NaN</td>\n",
       "      <td>NaN</td>\n",
       "      <td>NaN</td>\n",
       "      <td>NaN</td>\n",
       "    </tr>\n",
       "    <tr>\n",
       "      <th>6005</th>\n",
       "      <td>RE</td>\n",
       "      <td>NaN</td>\n",
       "      <td>NaN</td>\n",
       "      <td>NaN</td>\n",
       "      <td>NaN</td>\n",
       "      <td>NaN</td>\n",
       "      <td>NaN</td>\n",
       "      <td>NaN</td>\n",
       "      <td>NaN</td>\n",
       "      <td>NaN</td>\n",
       "      <td>NaN</td>\n",
       "      <td>NaN</td>\n",
       "      <td>NaN</td>\n",
       "      <td>NaN</td>\n",
       "      <td>NaN</td>\n",
       "      <td>NaN</td>\n",
       "      <td>NaN</td>\n",
       "      <td>NaN</td>\n",
       "      <td>NaN</td>\n",
       "    </tr>\n",
       "    <tr>\n",
       "      <th>10764</th>\n",
       "      <td>RE</td>\n",
       "      <td>;</td>\n",
       "      <td>NaN</td>\n",
       "      <td>NaN</td>\n",
       "      <td>NaN</td>\n",
       "      <td>NaN</td>\n",
       "      <td>NaN</td>\n",
       "      <td>NaN</td>\n",
       "      <td>NaN</td>\n",
       "      <td>NaN</td>\n",
       "      <td>NaN</td>\n",
       "      <td>NaN</td>\n",
       "      <td>NaN</td>\n",
       "      <td>NaN</td>\n",
       "      <td>NaN</td>\n",
       "      <td>NaN</td>\n",
       "      <td>NaN</td>\n",
       "      <td>NaN</td>\n",
       "      <td>NaN</td>\n",
       "    </tr>\n",
       "    <tr>\n",
       "      <th>10765</th>\n",
       "      <td>RE</td>\n",
       "      <td>NaN</td>\n",
       "      <td>NaN</td>\n",
       "      <td>NaN</td>\n",
       "      <td>NaN</td>\n",
       "      <td>NaN</td>\n",
       "      <td>NaN</td>\n",
       "      <td>NaN</td>\n",
       "      <td>NaN</td>\n",
       "      <td>NaN</td>\n",
       "      <td>NaN</td>\n",
       "      <td>NaN</td>\n",
       "      <td>NaN</td>\n",
       "      <td>NaN</td>\n",
       "      <td>NaN</td>\n",
       "      <td>NaN</td>\n",
       "      <td>NaN</td>\n",
       "      <td>NaN</td>\n",
       "      <td>NaN</td>\n",
       "    </tr>\n",
       "    <tr>\n",
       "      <th>14242</th>\n",
       "      <td>NaN</td>\n",
       "      <td>NaN</td>\n",
       "      <td>NaN</td>\n",
       "      <td>NaN</td>\n",
       "      <td>NaN</td>\n",
       "      <td>NaN</td>\n",
       "      <td>NaN</td>\n",
       "      <td>NaN</td>\n",
       "      <td>NaN</td>\n",
       "      <td>NaN</td>\n",
       "      <td>NaN</td>\n",
       "      <td>NaN</td>\n",
       "      <td>NaN</td>\n",
       "      <td>NaN</td>\n",
       "      <td>NaN</td>\n",
       "      <td>NaN</td>\n",
       "      <td>NaN</td>\n",
       "      <td>-37.67513</td>\n",
       "      <td>144.96976</td>\n",
       "    </tr>\n",
       "    <tr>\n",
       "      <th>14243</th>\n",
       "      <td>NaN</td>\n",
       "      <td>NaN</td>\n",
       "      <td>NaN</td>\n",
       "      <td>NaN</td>\n",
       "      <td>NaN</td>\n",
       "      <td>NaN</td>\n",
       "      <td>NaN</td>\n",
       "      <td>NaN</td>\n",
       "      <td>NaN</td>\n",
       "      <td>NaN</td>\n",
       "      <td>NaN</td>\n",
       "      <td>NaN</td>\n",
       "      <td>NaN</td>\n",
       "      <td>NaN</td>\n",
       "      <td>NaN</td>\n",
       "      <td>NaN</td>\n",
       "      <td>NaN</td>\n",
       "      <td>NaN</td>\n",
       "      <td>144.96944</td>\n",
       "    </tr>\n",
       "    <tr>\n",
       "      <th>14244</th>\n",
       "      <td>NaN</td>\n",
       "      <td>NaN</td>\n",
       "      <td>NaN</td>\n",
       "      <td>NaN</td>\n",
       "      <td>NaN</td>\n",
       "      <td>NaN</td>\n",
       "      <td>NaN</td>\n",
       "      <td>NaN</td>\n",
       "      <td>NaN</td>\n",
       "      <td>NaN</td>\n",
       "      <td>NaN</td>\n",
       "      <td>NaN</td>\n",
       "      <td>NaN</td>\n",
       "      <td>NaN</td>\n",
       "      <td>NaN</td>\n",
       "      <td>NaN</td>\n",
       "      <td>NaN</td>\n",
       "      <td>-37.78466</td>\n",
       "      <td>NaN</td>\n",
       "    </tr>\n",
       "    <tr>\n",
       "      <th>14245</th>\n",
       "      <td>NaN</td>\n",
       "      <td>NaN</td>\n",
       "      <td>NaN</td>\n",
       "      <td>NaN</td>\n",
       "      <td>NaN</td>\n",
       "      <td>NaN</td>\n",
       "      <td>NaN</td>\n",
       "      <td>NaN</td>\n",
       "      <td>NaN</td>\n",
       "      <td>NaN</td>\n",
       "      <td>NaN</td>\n",
       "      <td>NaN</td>\n",
       "      <td>NaN</td>\n",
       "      <td>NaN</td>\n",
       "      <td>NaN</td>\n",
       "      <td>NaN</td>\n",
       "      <td>NaN</td>\n",
       "      <td>NaN</td>\n",
       "      <td>144.93829</td>\n",
       "    </tr>\n",
       "  </tbody>\n",
       "</table>\n",
       "</div>"
      ],
      "text/plain": [
       "       Suburb Address  Rooms Type  Price Method SellerG Date  Distance  \\\n",
       "1156       RE       ;    NaN  NaN    NaN    NaN     NaN  NaN       NaN   \n",
       "1157       RE     NaN    NaN  NaN    NaN    NaN     NaN  NaN       NaN   \n",
       "1878       RE       ;    NaN  NaN    NaN    NaN     NaN  NaN       NaN   \n",
       "1879       RE     NaN    NaN  NaN    NaN    NaN     NaN  NaN       NaN   \n",
       "2577       RE       ;    NaN  NaN    NaN    NaN     NaN  NaN       NaN   \n",
       "2578       RE     NaN    NaN  NaN    NaN    NaN     NaN  NaN       NaN   \n",
       "3217       RE       ;    NaN  NaN    NaN    NaN     NaN  NaN       NaN   \n",
       "3218       RE     NaN    NaN  NaN    NaN    NaN     NaN  NaN       NaN   \n",
       "3266       RE       ;    NaN  NaN    NaN    NaN     NaN  NaN       NaN   \n",
       "3267       RE     NaN    NaN  NaN    NaN    NaN     NaN  NaN       NaN   \n",
       "4496       RE       ;    NaN  NaN    NaN    NaN     NaN  NaN       NaN   \n",
       "4497       RE     NaN    NaN  NaN    NaN    NaN     NaN  NaN       NaN   \n",
       "5183       RE       ;    NaN  NaN    NaN    NaN     NaN  NaN       NaN   \n",
       "5184       RE     NaN    NaN  NaN    NaN    NaN     NaN  NaN       NaN   \n",
       "5897       RE       ;    NaN  NaN    NaN    NaN     NaN  NaN       NaN   \n",
       "5898       RE     NaN    NaN  NaN    NaN    NaN     NaN  NaN       NaN   \n",
       "6004       RE       ;    NaN  NaN    NaN    NaN     NaN  NaN       NaN   \n",
       "6005       RE     NaN    NaN  NaN    NaN    NaN     NaN  NaN       NaN   \n",
       "10764      RE       ;    NaN  NaN    NaN    NaN     NaN  NaN       NaN   \n",
       "10765      RE     NaN    NaN  NaN    NaN    NaN     NaN  NaN       NaN   \n",
       "14242     NaN     NaN    NaN  NaN    NaN    NaN     NaN  NaN       NaN   \n",
       "14243     NaN     NaN    NaN  NaN    NaN    NaN     NaN  NaN       NaN   \n",
       "14244     NaN     NaN    NaN  NaN    NaN    NaN     NaN  NaN       NaN   \n",
       "14245     NaN     NaN    NaN  NaN    NaN    NaN     NaN  NaN       NaN   \n",
       "\n",
       "       Postcode  Bedroom2  Bathroom  Car  Landsize  BuildingArea  YearBuilt  \\\n",
       "1156        NaN       NaN       NaN  NaN       NaN           NaN        NaN   \n",
       "1157        NaN       NaN       NaN  NaN       NaN           NaN        NaN   \n",
       "1878        NaN       NaN       NaN  NaN       NaN           NaN        NaN   \n",
       "1879        NaN       NaN       NaN  NaN       NaN           NaN        NaN   \n",
       "2577        NaN       NaN       NaN  NaN       NaN           NaN        NaN   \n",
       "2578        NaN       NaN       NaN  NaN       NaN           NaN        NaN   \n",
       "3217        NaN       NaN       NaN  NaN       NaN           NaN        NaN   \n",
       "3218        NaN       NaN       NaN  NaN       NaN           NaN        NaN   \n",
       "3266        NaN       NaN       NaN  NaN       NaN           NaN        NaN   \n",
       "3267        NaN       NaN       NaN  NaN       NaN           NaN        NaN   \n",
       "4496        NaN       NaN       NaN  NaN       NaN           NaN        NaN   \n",
       "4497        NaN       NaN       NaN  NaN       NaN           NaN        NaN   \n",
       "5183        NaN       NaN       NaN  NaN       NaN           NaN        NaN   \n",
       "5184        NaN       NaN       NaN  NaN       NaN           NaN        NaN   \n",
       "5897        NaN       NaN       NaN  NaN       NaN           NaN        NaN   \n",
       "5898        NaN       NaN       NaN  NaN       NaN           NaN        NaN   \n",
       "6004        NaN       NaN       NaN  NaN       NaN           NaN        NaN   \n",
       "6005        NaN       NaN       NaN  NaN       NaN           NaN        NaN   \n",
       "10764       NaN       NaN       NaN  NaN       NaN           NaN        NaN   \n",
       "10765       NaN       NaN       NaN  NaN       NaN           NaN        NaN   \n",
       "14242       NaN       NaN       NaN  NaN       NaN           NaN        NaN   \n",
       "14243       NaN       NaN       NaN  NaN       NaN           NaN        NaN   \n",
       "14244       NaN       NaN       NaN  NaN       NaN           NaN        NaN   \n",
       "14245       NaN       NaN       NaN  NaN       NaN           NaN        NaN   \n",
       "\n",
       "      CouncilArea  Lattitude Longtitude  \n",
       "1156          NaN        NaN        NaN  \n",
       "1157          NaN        NaN        NaN  \n",
       "1878          NaN        NaN        NaN  \n",
       "1879          NaN        NaN        NaN  \n",
       "2577          NaN        NaN        NaN  \n",
       "2578          NaN        NaN        NaN  \n",
       "3217          NaN        NaN        NaN  \n",
       "3218          NaN        NaN        NaN  \n",
       "3266          NaN        NaN        NaN  \n",
       "3267          NaN        NaN        NaN  \n",
       "4496          NaN        NaN        NaN  \n",
       "4497          NaN        NaN        NaN  \n",
       "5183          NaN        NaN        NaN  \n",
       "5184          NaN        NaN        NaN  \n",
       "5897          NaN        NaN        NaN  \n",
       "5898          NaN        NaN        NaN  \n",
       "6004          NaN        NaN        NaN  \n",
       "6005          NaN        NaN        NaN  \n",
       "10764         NaN        NaN        NaN  \n",
       "10765         NaN        NaN        NaN  \n",
       "14242         NaN  -37.67513  144.96976  \n",
       "14243         NaN        NaN  144.96944  \n",
       "14244         NaN  -37.78466        NaN  \n",
       "14245         NaN        NaN  144.93829  "
      ]
     },
     "execution_count": 69,
     "metadata": {},
     "output_type": "execute_result"
    }
   ],
   "source": [
    "#housing_data[housing['Method'].isnull()]\n",
    "\n",
    "housing_data[housing_data['Method'].isnull()].sum()"
   ]
  },
  {
   "cell_type": "code",
   "execution_count": 70,
   "metadata": {},
   "outputs": [
    {
     "data": {
      "text/plain": [
       "(14222, 19)"
      ]
     },
     "execution_count": 70,
     "metadata": {},
     "output_type": "execute_result"
    }
   ],
   "source": [
    "housing_data_dropped = housing_data.dropna(subset=[\"Method\", \"Type\", \"Suburb\"])\n",
    "housing_data_dropped.shape"
   ]
  },
  {
   "cell_type": "code",
   "execution_count": 71,
   "metadata": {},
   "outputs": [
    {
     "data": {
      "text/plain": [
       "0"
      ]
     },
     "execution_count": 71,
     "metadata": {},
     "output_type": "execute_result"
    }
   ],
   "source": [
    "housing_data_dropped['Suburb'].isnull().sum()"
   ]
  },
  {
   "cell_type": "code",
   "execution_count": 72,
   "metadata": {},
   "outputs": [],
   "source": [
    "housing['Suburb'] = housing['Suburb'].astype(str)\n",
    "housing['Type'] = housing['Type'].astype(str)\n",
    "housing['Method'] = housing['Method'].astype(str)"
   ]
  },
  {
   "cell_type": "raw",
   "metadata": {},
   "source": [
    "we have 9 object type columns and 10 numeric columns. "
   ]
  },
  {
   "cell_type": "code",
   "execution_count": 73,
   "metadata": {},
   "outputs": [
    {
     "name": "stderr",
     "output_type": "stream",
     "text": [
      "c:\\users\\arjun\\appdata\\local\\programs\\python\\python37\\lib\\site-packages\\ipykernel_launcher.py:1: FutureWarning: convert_objects is deprecated.  To re-infer data dtypes for object columns, use Series.infer_objects()\n",
      "For all other conversions use the data-type specific converters pd.to_datetime, pd.to_timedelta and pd.to_numeric.\n",
      "  \"\"\"Entry point for launching an IPython kernel.\n",
      "c:\\users\\arjun\\appdata\\local\\programs\\python\\python37\\lib\\site-packages\\ipykernel_launcher.py:2: FutureWarning: convert_objects is deprecated.  To re-infer data dtypes for object columns, use Series.infer_objects()\n",
      "For all other conversions use the data-type specific converters pd.to_datetime, pd.to_timedelta and pd.to_numeric.\n",
      "  \n"
     ]
    }
   ],
   "source": [
    "housing[\"Lattitude\"] = housing.Lattitude.convert_objects(convert_numeric=True)\n",
    "housing[\"Longtitude\"] = housing.Longtitude.convert_objects(convert_numeric=True)"
   ]
  },
  {
   "cell_type": "code",
   "execution_count": 74,
   "metadata": {},
   "outputs": [
    {
     "data": {
      "text/html": [
       "<div>\n",
       "<style scoped>\n",
       "    .dataframe tbody tr th:only-of-type {\n",
       "        vertical-align: middle;\n",
       "    }\n",
       "\n",
       "    .dataframe tbody tr th {\n",
       "        vertical-align: top;\n",
       "    }\n",
       "\n",
       "    .dataframe thead th {\n",
       "        text-align: right;\n",
       "    }\n",
       "</style>\n",
       "<table border=\"1\" class=\"dataframe\">\n",
       "  <thead>\n",
       "    <tr style=\"text-align: right;\">\n",
       "      <th></th>\n",
       "      <th>Suburb</th>\n",
       "      <th>Address</th>\n",
       "      <th>Rooms</th>\n",
       "      <th>Type</th>\n",
       "      <th>Price</th>\n",
       "      <th>Method</th>\n",
       "      <th>SellerG</th>\n",
       "      <th>Date</th>\n",
       "      <th>Distance</th>\n",
       "      <th>Postcode</th>\n",
       "      <th>Bedroom2</th>\n",
       "      <th>Bathroom</th>\n",
       "      <th>Car</th>\n",
       "      <th>Landsize</th>\n",
       "      <th>BuildingArea</th>\n",
       "      <th>YearBuilt</th>\n",
       "      <th>CouncilArea</th>\n",
       "      <th>Lattitude</th>\n",
       "      <th>Longtitude</th>\n",
       "    </tr>\n",
       "  </thead>\n",
       "  <tbody>\n",
       "    <tr>\n",
       "      <th>0</th>\n",
       "      <td>Abbotsford</td>\n",
       "      <td>68 Studley St</td>\n",
       "      <td>2.0</td>\n",
       "      <td>h</td>\n",
       "      <td>NaN</td>\n",
       "      <td>SS</td>\n",
       "      <td>Jellis</td>\n",
       "      <td>3/9/2016</td>\n",
       "      <td>2.5</td>\n",
       "      <td>3067.0</td>\n",
       "      <td>2.0</td>\n",
       "      <td>1.0</td>\n",
       "      <td>1.0</td>\n",
       "      <td>126.0</td>\n",
       "      <td>NaN</td>\n",
       "      <td>NaN</td>\n",
       "      <td>Yarra</td>\n",
       "      <td>-37.8014</td>\n",
       "      <td>144.9958</td>\n",
       "    </tr>\n",
       "    <tr>\n",
       "      <th>1</th>\n",
       "      <td>Abbotsford</td>\n",
       "      <td>85 Turner St</td>\n",
       "      <td>2.0</td>\n",
       "      <td>h</td>\n",
       "      <td>1480000.0</td>\n",
       "      <td>S</td>\n",
       "      <td>Biggin</td>\n",
       "      <td>3/12/2016</td>\n",
       "      <td>2.5</td>\n",
       "      <td>3067.0</td>\n",
       "      <td>2.0</td>\n",
       "      <td>1.0</td>\n",
       "      <td>1.0</td>\n",
       "      <td>202.0</td>\n",
       "      <td>NaN</td>\n",
       "      <td>NaN</td>\n",
       "      <td>Yarra</td>\n",
       "      <td>-37.7996</td>\n",
       "      <td>144.9984</td>\n",
       "    </tr>\n",
       "    <tr>\n",
       "      <th>2</th>\n",
       "      <td>Abbotsford</td>\n",
       "      <td>25 Bloomburg St</td>\n",
       "      <td>2.0</td>\n",
       "      <td>h</td>\n",
       "      <td>1035000.0</td>\n",
       "      <td>S</td>\n",
       "      <td>Biggin</td>\n",
       "      <td>4/2/2016</td>\n",
       "      <td>2.5</td>\n",
       "      <td>3067.0</td>\n",
       "      <td>2.0</td>\n",
       "      <td>1.0</td>\n",
       "      <td>0.0</td>\n",
       "      <td>156.0</td>\n",
       "      <td>79.0</td>\n",
       "      <td>1900.0</td>\n",
       "      <td>Yarra</td>\n",
       "      <td>-37.8079</td>\n",
       "      <td>144.9934</td>\n",
       "    </tr>\n",
       "    <tr>\n",
       "      <th>3</th>\n",
       "      <td>Abbotsford</td>\n",
       "      <td>18/659 Victoria St</td>\n",
       "      <td>3.0</td>\n",
       "      <td>u</td>\n",
       "      <td>NaN</td>\n",
       "      <td>VB</td>\n",
       "      <td>Rounds</td>\n",
       "      <td>4/2/2016</td>\n",
       "      <td>2.5</td>\n",
       "      <td>3067.0</td>\n",
       "      <td>3.0</td>\n",
       "      <td>2.0</td>\n",
       "      <td>1.0</td>\n",
       "      <td>0.0</td>\n",
       "      <td>NaN</td>\n",
       "      <td>NaN</td>\n",
       "      <td>Yarra</td>\n",
       "      <td>-37.8114</td>\n",
       "      <td>145.0116</td>\n",
       "    </tr>\n",
       "    <tr>\n",
       "      <th>4</th>\n",
       "      <td>Abbotsford</td>\n",
       "      <td>5 Charles St</td>\n",
       "      <td>3.0</td>\n",
       "      <td>h</td>\n",
       "      <td>1465000.0</td>\n",
       "      <td>SP</td>\n",
       "      <td>Biggin</td>\n",
       "      <td>4/3/2017</td>\n",
       "      <td>2.5</td>\n",
       "      <td>3067.0</td>\n",
       "      <td>3.0</td>\n",
       "      <td>2.0</td>\n",
       "      <td>0.0</td>\n",
       "      <td>134.0</td>\n",
       "      <td>150.0</td>\n",
       "      <td>1900.0</td>\n",
       "      <td>Yarra</td>\n",
       "      <td>-37.8093</td>\n",
       "      <td>144.9944</td>\n",
       "    </tr>\n",
       "  </tbody>\n",
       "</table>\n",
       "</div>"
      ],
      "text/plain": [
       "       Suburb             Address  Rooms Type      Price Method SellerG  \\\n",
       "0  Abbotsford       68 Studley St    2.0    h        NaN     SS  Jellis   \n",
       "1  Abbotsford        85 Turner St    2.0    h  1480000.0      S  Biggin   \n",
       "2  Abbotsford     25 Bloomburg St    2.0    h  1035000.0      S  Biggin   \n",
       "3  Abbotsford  18/659 Victoria St    3.0    u        NaN     VB  Rounds   \n",
       "4  Abbotsford        5 Charles St    3.0    h  1465000.0     SP  Biggin   \n",
       "\n",
       "        Date  Distance  Postcode  Bedroom2  Bathroom  Car  Landsize  \\\n",
       "0   3/9/2016       2.5    3067.0       2.0       1.0  1.0     126.0   \n",
       "1  3/12/2016       2.5    3067.0       2.0       1.0  1.0     202.0   \n",
       "2   4/2/2016       2.5    3067.0       2.0       1.0  0.0     156.0   \n",
       "3   4/2/2016       2.5    3067.0       3.0       2.0  1.0       0.0   \n",
       "4   4/3/2017       2.5    3067.0       3.0       2.0  0.0     134.0   \n",
       "\n",
       "   BuildingArea  YearBuilt CouncilArea  Lattitude  Longtitude  \n",
       "0           NaN        NaN       Yarra   -37.8014    144.9958  \n",
       "1           NaN        NaN       Yarra   -37.7996    144.9984  \n",
       "2          79.0     1900.0       Yarra   -37.8079    144.9934  \n",
       "3           NaN        NaN       Yarra   -37.8114    145.0116  \n",
       "4         150.0     1900.0       Yarra   -37.8093    144.9944  "
      ]
     },
     "execution_count": 74,
     "metadata": {},
     "output_type": "execute_result"
    }
   ],
   "source": [
    "housing.head()"
   ]
  },
  {
   "cell_type": "code",
   "execution_count": 75,
   "metadata": {},
   "outputs": [
    {
     "data": {
      "text/html": [
       "<div>\n",
       "<style scoped>\n",
       "    .dataframe tbody tr th:only-of-type {\n",
       "        vertical-align: middle;\n",
       "    }\n",
       "\n",
       "    .dataframe tbody tr th {\n",
       "        vertical-align: top;\n",
       "    }\n",
       "\n",
       "    .dataframe thead th {\n",
       "        text-align: right;\n",
       "    }\n",
       "</style>\n",
       "<table border=\"1\" class=\"dataframe\">\n",
       "  <thead>\n",
       "    <tr style=\"text-align: right;\">\n",
       "      <th></th>\n",
       "      <th>Rooms</th>\n",
       "      <th>Price</th>\n",
       "      <th>Distance</th>\n",
       "      <th>Postcode</th>\n",
       "      <th>Bedroom2</th>\n",
       "      <th>Bathroom</th>\n",
       "      <th>Car</th>\n",
       "      <th>Landsize</th>\n",
       "      <th>BuildingArea</th>\n",
       "      <th>YearBuilt</th>\n",
       "      <th>Lattitude</th>\n",
       "      <th>Longtitude</th>\n",
       "    </tr>\n",
       "  </thead>\n",
       "  <tbody>\n",
       "    <tr>\n",
       "      <th>count</th>\n",
       "      <td>14222.000000</td>\n",
       "      <td>1.106900e+04</td>\n",
       "      <td>14222.000000</td>\n",
       "      <td>14222.000000</td>\n",
       "      <td>11202.000000</td>\n",
       "      <td>11202.000000</td>\n",
       "      <td>11202.000000</td>\n",
       "      <td>11185.000000</td>\n",
       "      <td>6168.000000</td>\n",
       "      <td>7099.000000</td>\n",
       "      <td>11301.000000</td>\n",
       "      <td>11300.000000</td>\n",
       "    </tr>\n",
       "    <tr>\n",
       "      <th>mean</th>\n",
       "      <td>2.893967</td>\n",
       "      <td>1.076961e+06</td>\n",
       "      <td>8.621635</td>\n",
       "      <td>3098.212066</td>\n",
       "      <td>2.840564</td>\n",
       "      <td>1.530887</td>\n",
       "      <td>1.537850</td>\n",
       "      <td>469.181404</td>\n",
       "      <td>146.861539</td>\n",
       "      <td>1960.194534</td>\n",
       "      <td>-37.811451</td>\n",
       "      <td>144.990292</td>\n",
       "    </tr>\n",
       "    <tr>\n",
       "      <th>std</th>\n",
       "      <td>0.985804</td>\n",
       "      <td>6.598991e+05</td>\n",
       "      <td>3.559325</td>\n",
       "      <td>59.575864</td>\n",
       "      <td>1.013490</td>\n",
       "      <td>0.717342</td>\n",
       "      <td>0.959796</td>\n",
       "      <td>1175.477306</td>\n",
       "      <td>135.265201</td>\n",
       "      <td>38.119790</td>\n",
       "      <td>0.060307</td>\n",
       "      <td>0.073198</td>\n",
       "    </tr>\n",
       "    <tr>\n",
       "      <th>min</th>\n",
       "      <td>1.000000</td>\n",
       "      <td>8.500000e+04</td>\n",
       "      <td>1.200000</td>\n",
       "      <td>3000.000000</td>\n",
       "      <td>0.000000</td>\n",
       "      <td>0.000000</td>\n",
       "      <td>0.000000</td>\n",
       "      <td>0.000000</td>\n",
       "      <td>0.000000</td>\n",
       "      <td>1800.000000</td>\n",
       "      <td>-37.946200</td>\n",
       "      <td>144.788610</td>\n",
       "    </tr>\n",
       "    <tr>\n",
       "      <th>25%</th>\n",
       "      <td>2.000000</td>\n",
       "      <td>6.400000e+05</td>\n",
       "      <td>5.900000</td>\n",
       "      <td>3046.000000</td>\n",
       "      <td>2.000000</td>\n",
       "      <td>1.000000</td>\n",
       "      <td>1.000000</td>\n",
       "      <td>141.000000</td>\n",
       "      <td>90.000000</td>\n",
       "      <td>1930.000000</td>\n",
       "      <td>-37.854000</td>\n",
       "      <td>144.940300</td>\n",
       "    </tr>\n",
       "    <tr>\n",
       "      <th>50%</th>\n",
       "      <td>3.000000</td>\n",
       "      <td>9.000000e+05</td>\n",
       "      <td>8.800000</td>\n",
       "      <td>3085.000000</td>\n",
       "      <td>3.000000</td>\n",
       "      <td>1.000000</td>\n",
       "      <td>1.000000</td>\n",
       "      <td>351.000000</td>\n",
       "      <td>125.000000</td>\n",
       "      <td>1961.000000</td>\n",
       "      <td>-37.809100</td>\n",
       "      <td>144.997635</td>\n",
       "    </tr>\n",
       "    <tr>\n",
       "      <th>75%</th>\n",
       "      <td>3.000000</td>\n",
       "      <td>1.330500e+06</td>\n",
       "      <td>11.200000</td>\n",
       "      <td>3146.000000</td>\n",
       "      <td>3.000000</td>\n",
       "      <td>2.000000</td>\n",
       "      <td>2.000000</td>\n",
       "      <td>626.000000</td>\n",
       "      <td>176.000000</td>\n",
       "      <td>1998.000000</td>\n",
       "      <td>-37.764900</td>\n",
       "      <td>145.046400</td>\n",
       "    </tr>\n",
       "    <tr>\n",
       "      <th>max</th>\n",
       "      <td>12.000000</td>\n",
       "      <td>8.000000e+06</td>\n",
       "      <td>15.000000</td>\n",
       "      <td>3207.000000</td>\n",
       "      <td>30.000000</td>\n",
       "      <td>12.000000</td>\n",
       "      <td>26.000000</td>\n",
       "      <td>75100.000000</td>\n",
       "      <td>6791.000000</td>\n",
       "      <td>2106.000000</td>\n",
       "      <td>-37.674130</td>\n",
       "      <td>145.143800</td>\n",
       "    </tr>\n",
       "  </tbody>\n",
       "</table>\n",
       "</div>"
      ],
      "text/plain": [
       "              Rooms         Price      Distance      Postcode      Bedroom2  \\\n",
       "count  14222.000000  1.106900e+04  14222.000000  14222.000000  11202.000000   \n",
       "mean       2.893967  1.076961e+06      8.621635   3098.212066      2.840564   \n",
       "std        0.985804  6.598991e+05      3.559325     59.575864      1.013490   \n",
       "min        1.000000  8.500000e+04      1.200000   3000.000000      0.000000   \n",
       "25%        2.000000  6.400000e+05      5.900000   3046.000000      2.000000   \n",
       "50%        3.000000  9.000000e+05      8.800000   3085.000000      3.000000   \n",
       "75%        3.000000  1.330500e+06     11.200000   3146.000000      3.000000   \n",
       "max       12.000000  8.000000e+06     15.000000   3207.000000     30.000000   \n",
       "\n",
       "           Bathroom           Car      Landsize  BuildingArea    YearBuilt  \\\n",
       "count  11202.000000  11202.000000  11185.000000   6168.000000  7099.000000   \n",
       "mean       1.530887      1.537850    469.181404    146.861539  1960.194534   \n",
       "std        0.717342      0.959796   1175.477306    135.265201    38.119790   \n",
       "min        0.000000      0.000000      0.000000      0.000000  1800.000000   \n",
       "25%        1.000000      1.000000    141.000000     90.000000  1930.000000   \n",
       "50%        1.000000      1.000000    351.000000    125.000000  1961.000000   \n",
       "75%        2.000000      2.000000    626.000000    176.000000  1998.000000   \n",
       "max       12.000000     26.000000  75100.000000   6791.000000  2106.000000   \n",
       "\n",
       "          Lattitude    Longtitude  \n",
       "count  11301.000000  11300.000000  \n",
       "mean     -37.811451    144.990292  \n",
       "std        0.060307      0.073198  \n",
       "min      -37.946200    144.788610  \n",
       "25%      -37.854000    144.940300  \n",
       "50%      -37.809100    144.997635  \n",
       "75%      -37.764900    145.046400  \n",
       "max      -37.674130    145.143800  "
      ]
     },
     "execution_count": 75,
     "metadata": {},
     "output_type": "execute_result"
    }
   ],
   "source": [
    "housing.describe()"
   ]
  },
  {
   "cell_type": "code",
   "execution_count": 76,
   "metadata": {},
   "outputs": [],
   "source": [
    "#housing[\"Suburb\"].value_counts()"
   ]
  },
  {
   "cell_type": "code",
   "execution_count": 77,
   "metadata": {},
   "outputs": [
    {
     "data": {
      "text/plain": [
       "S     8406\n",
       "SP    2013\n",
       "PI    1883\n",
       "VB    1098\n",
       "SN     587\n",
       "PN     121\n",
       "W       51\n",
       "SA      51\n",
       "SS      12\n",
       "Name: Method, dtype: int64"
      ]
     },
     "execution_count": 77,
     "metadata": {},
     "output_type": "execute_result"
    }
   ],
   "source": [
    "housing[\"Method\"].value_counts()"
   ]
  },
  {
   "cell_type": "code",
   "execution_count": 78,
   "metadata": {},
   "outputs": [],
   "source": [
    "#housing[\"SellerG\"].value_counts()"
   ]
  },
  {
   "cell_type": "code",
   "execution_count": 79,
   "metadata": {},
   "outputs": [
    {
     "data": {
      "text/plain": [
       "<matplotlib.axes._subplots.AxesSubplot at 0x2c4133de278>"
      ]
     },
     "execution_count": 79,
     "metadata": {},
     "output_type": "execute_result"
    },
    {
     "data": {
      "image/png": "[encoded data removed]",
      "text/plain": [
       "<Figure size 432x288 with 1 Axes>"
      ]
     },
     "metadata": {
      "needs_background": "light"
     },
     "output_type": "display_data"
    }
   ],
   "source": [
    "#checking the price outliers\n",
    "import seaborn as sns\n",
    "sns.boxplot(x=housing['Price'])"
   ]
  },
  {
   "cell_type": "code",
   "execution_count": 80,
   "metadata": {},
   "outputs": [],
   "source": [
    "outliers_price = housing\n"
   ]
  },
  {
   "cell_type": "code",
   "execution_count": 81,
   "metadata": {},
   "outputs": [
    {
     "data": {
      "text/plain": [
       "3153"
      ]
     },
     "execution_count": 81,
     "metadata": {},
     "output_type": "execute_result"
    }
   ],
   "source": [
    "housing['Price'].isnull().sum()"
   ]
  },
  {
   "cell_type": "code",
   "execution_count": 82,
   "metadata": {},
   "outputs": [
    {
     "data": {
      "text/plain": [
       "(11069, 19)"
      ]
     },
     "execution_count": 82,
     "metadata": {},
     "output_type": "execute_result"
    }
   ],
   "source": [
    "housin_price_withoutnull = housing.dropna(subset=[\"Price\"])\n",
    "\n",
    "housin_price_withoutnull.shape"
   ]
  },
  {
   "cell_type": "code",
   "execution_count": 83,
   "metadata": {},
   "outputs": [
    {
     "name": "stderr",
     "output_type": "stream",
     "text": [
      "c:\\users\\arjun\\appdata\\local\\programs\\python\\python37\\lib\\site-packages\\ipykernel_launcher.py:1: SettingWithCopyWarning: \n",
      "A value is trying to be set on a copy of a slice from a DataFrame.\n",
      "Try using .loc[row_indexer,col_indexer] = value instead\n",
      "\n",
      "See the caveats in the documentation: http://pandas.pydata.org/pandas-docs/stable/indexing.html#indexing-view-versus-copy\n",
      "  \"\"\"Entry point for launching an IPython kernel.\n"
     ]
    }
   ],
   "source": [
    "housin_price_withoutnull['log_Price']=np.log(housin_price_withoutnull['Price']).copy()"
   ]
  },
  {
   "cell_type": "code",
   "execution_count": 84,
   "metadata": {},
   "outputs": [
    {
     "data": {
      "text/plain": [
       "<matplotlib.axes._subplots.AxesSubplot at 0x2c413c4c080>"
      ]
     },
     "execution_count": 84,
     "metadata": {},
     "output_type": "execute_result"
    },
    {
     "data": {
      "image/png": "[encoded data removed]",
      "text/plain": [
       "<Figure size 432x288 with 1 Axes>"
      ]
     },
     "metadata": {
      "needs_background": "light"
     },
     "output_type": "display_data"
    }
   ],
   "source": [
    "sns.boxplot(x=housin_price_withoutnull['log_Price'])"
   ]
  },
  {
   "cell_type": "code",
   "execution_count": 85,
   "metadata": {},
   "outputs": [],
   "source": [
    "q75, q25 = np.percentile(housin_price_withoutnull.log_Price.dropna(), [75 ,25])\n",
    "iqr = q75 - q25\n",
    " \n",
    "min = q25 - (iqr*1.5)\n",
    "max = q75 + (iqr*1.5)"
   ]
  },
  {
   "cell_type": "code",
   "execution_count": 86,
   "metadata": {},
   "outputs": [
    {
     "name": "stderr",
     "output_type": "stream",
     "text": [
      "c:\\users\\arjun\\appdata\\local\\programs\\python\\python37\\lib\\site-packages\\ipykernel_launcher.py:1: SettingWithCopyWarning: \n",
      "A value is trying to be set on a copy of a slice from a DataFrame.\n",
      "Try using .loc[row_indexer,col_indexer] = value instead\n",
      "\n",
      "See the caveats in the documentation: http://pandas.pydata.org/pandas-docs/stable/indexing.html#indexing-view-versus-copy\n",
      "  \"\"\"Entry point for launching an IPython kernel.\n",
      "c:\\users\\arjun\\appdata\\local\\programs\\python\\python37\\lib\\site-packages\\pandas\\core\\indexing.py:543: SettingWithCopyWarning: \n",
      "A value is trying to be set on a copy of a slice from a DataFrame.\n",
      "Try using .loc[row_indexer,col_indexer] = value instead\n",
      "\n",
      "See the caveats in the documentation: http://pandas.pydata.org/pandas-docs/stable/indexing.html#indexing-view-versus-copy\n",
      "  self.obj[item] = s\n"
     ]
    }
   ],
   "source": [
    "housin_price_withoutnull['Outlier'] = 0\n",
    " \n",
    "housin_price_withoutnull.loc[housin_price_withoutnull['log_Price'] < min, 'Outlier'] = 1\n",
    "housin_price_withoutnull.loc[housin_price_withoutnull['log_Price'] > max, 'Outlier'] = 1"
   ]
  },
  {
   "cell_type": "code",
   "execution_count": 87,
   "metadata": {},
   "outputs": [
    {
     "data": {
      "text/plain": [
       "79"
      ]
     },
     "execution_count": 87,
     "metadata": {},
     "output_type": "execute_result"
    }
   ],
   "source": [
    "housin_price_withoutnull['Outlier'].loc[housin_price_withoutnull['Outlier']==1].count()"
   ]
  },
  {
   "cell_type": "code",
   "execution_count": 88,
   "metadata": {},
   "outputs": [
    {
     "name": "stdout",
     "output_type": "stream",
     "text": [
      "<class 'pandas.core.frame.DataFrame'>\n",
      "Int64Index: 11069 entries, 1 to 14240\n",
      "Data columns (total 21 columns):\n",
      "Suburb          11069 non-null object\n",
      "Address         11069 non-null object\n",
      "Rooms           11069 non-null float64\n",
      "Type            11069 non-null object\n",
      "Price           11069 non-null float64\n",
      "Method          11069 non-null object\n",
      "SellerG         11069 non-null object\n",
      "Date            11069 non-null object\n",
      "Distance        11069 non-null float64\n",
      "Postcode        11069 non-null float64\n",
      "Bedroom2        8741 non-null float64\n",
      "Bathroom        8741 non-null float64\n",
      "Car             8741 non-null float64\n",
      "Landsize        8730 non-null float64\n",
      "BuildingArea    4746 non-null float64\n",
      "YearBuilt       5474 non-null float64\n",
      "CouncilArea     8729 non-null object\n",
      "Lattitude       8825 non-null float64\n",
      "Longtitude      8805 non-null float64\n",
      "log_Price       11069 non-null float64\n",
      "Outlier         11069 non-null int64\n",
      "dtypes: float64(13), int64(1), object(7)\n",
      "memory usage: 1.9+ MB\n"
     ]
    }
   ],
   "source": [
    "housin_price_withoutnull.info()"
   ]
  },
  {
   "cell_type": "code",
   "execution_count": 99,
   "metadata": {},
   "outputs": [],
   "source": [
    "#housin_price_withoutnull=housin_price_withoutnull.drop(housin_price_withoutnull[housin_price_withoutnull.log_Price == 1].index)\n",
    "\n",
    "\n",
    "housin_price_withoutnull=housin_price_withoutnull[housin_price_withoutnull.Outlier != 1]"
   ]
  },
  {
   "cell_type": "code",
   "execution_count": 100,
   "metadata": {},
   "outputs": [
    {
     "data": {
      "text/plain": [
       "<matplotlib.axes._subplots.AxesSubplot at 0x2c4139caeb8>"
      ]
     },
     "execution_count": 100,
     "metadata": {},
     "output_type": "execute_result"
    },
    {
     "data": {
      "image/png": "[encoded data removed]",
      "text/plain": [
       "<Figure size 432x288 with 1 Axes>"
      ]
     },
     "metadata": {
      "needs_background": "light"
     },
     "output_type": "display_data"
    }
   ],
   "source": [
    "sns.boxplot(x=housin_price_withoutnull['log_Price'])"
   ]
  },
  {
   "cell_type": "code",
   "execution_count": 101,
   "metadata": {},
   "outputs": [],
   "source": [
    "#housin_price_withoutnull = housin_price_withoutnull[housin_price_withoutnull[\"score\"] > 50]"
   ]
  },
  {
   "cell_type": "code",
   "execution_count": 102,
   "metadata": {},
   "outputs": [
    {
     "data": {
      "text/plain": [
       "0"
      ]
     },
     "execution_count": 102,
     "metadata": {},
     "output_type": "execute_result"
    }
   ],
   "source": [
    "housin_price_withoutnull['Outlier'].loc[housin_price_withoutnull['Outlier']==1].count()"
   ]
  },
  {
   "cell_type": "code",
   "execution_count": 103,
   "metadata": {},
   "outputs": [
    {
     "data": {
      "text/plain": [
       "Price           1.000000\n",
       "Rooms           0.556374\n",
       "Bedroom2        0.532209\n",
       "Bathroom        0.515975\n",
       "BuildingArea    0.361064\n",
       "Car             0.287505\n",
       "Postcode        0.273237\n",
       "Longtitude      0.253092\n",
       "Landsize        0.071443\n",
       "Distance       -0.073167\n",
       "Lattitude      -0.243165\n",
       "YearBuilt      -0.319787\n",
       "Name: Price, dtype: float64"
      ]
     },
     "execution_count": 103,
     "metadata": {},
     "output_type": "execute_result"
    }
   ],
   "source": [
    "housing.corr().Price.sort_values(ascending=False)"
   ]
  },
  {
   "cell_type": "code",
   "execution_count": 15,
   "metadata": {
    "scrolled": true
   },
   "outputs": [
    {
     "data": {
      "text/plain": [
       "Boroondara       1351\n",
       "Moreland         1140\n",
       "Stonnington       953\n",
       "Moonee Valley     919\n",
       "Darebin           903\n",
       "Glen Eira         836\n",
       "Port Phillip      693\n",
       "Maribyrnong       685\n",
       "Yarra             677\n",
       "Banyule           546\n",
       "Bayside           506\n",
       "Melbourne         458\n",
       "Hobsons Bay       404\n",
       "Brimbank          301\n",
       "Manningham        255\n",
       "Whitehorse        237\n",
       "Monash            216\n",
       "Kingston           82\n",
       "Hume               21\n",
       "Name: CouncilArea, dtype: int64"
      ]
     },
     "execution_count": 15,
     "metadata": {},
     "output_type": "execute_result"
    }
   ],
   "source": [
    "housing[\"CouncilArea\"].value_counts()"
   ]
  },
  {
   "cell_type": "code",
   "execution_count": 16,
   "metadata": {},
   "outputs": [
    {
     "data": {
      "text/plain": [
       "h    9080\n",
       "u    3568\n",
       "t    1574\n",
       "Name: Type, dtype: int64"
      ]
     },
     "execution_count": 16,
     "metadata": {},
     "output_type": "execute_result"
    }
   ],
   "source": [
    "housing[\"Type\"].value_counts()"
   ]
  },
  {
   "cell_type": "code",
   "execution_count": null,
   "metadata": {},
   "outputs": [],
   "source": []
  },
  {
   "cell_type": "code",
   "execution_count": 9,
   "metadata": {},
   "outputs": [
    {
     "data": {
      "text/plain": [
       "Price           1.000000\n",
       "Rooms           0.556374\n",
       "Bedroom2        0.532209\n",
       "Bathroom        0.515975\n",
       "BuildingArea    0.361064\n",
       "Car             0.287505\n",
       "Postcode        0.273237\n",
       "Landsize        0.071443\n",
       "Distance       -0.073167\n",
       "YearBuilt      -0.319787\n",
       "Name: Price, dtype: float64"
      ]
     },
     "execution_count": 9,
     "metadata": {},
     "output_type": "execute_result"
    }
   ],
   "source": [
    "housing.corr().Price.sort_values(ascending=False)"
   ]
  },
  {
   "cell_type": "code",
   "execution_count": 18,
   "metadata": {},
   "outputs": [
    {
     "data": {
      "image/png": "[encoded data removed]",
      "text/plain": [
       "<Figure size 720x720 with 12 Axes>"
      ]
     },
     "metadata": {
      "needs_background": "light"
     },
     "output_type": "display_data"
    }
   ],
   "source": [
    "%matplotlib inline\n",
    "import matplotlib.pyplot as plt\n",
    "housing.hist(bins=50, figsize=(10,10))\n",
    "plt.show()"
   ]
  },
  {
   "cell_type": "code",
   "execution_count": 19,
   "metadata": {},
   "outputs": [
    {
     "data": {
      "text/plain": [
       "<matplotlib.legend.Legend at 0x2bac0cde668>"
      ]
     },
     "execution_count": 19,
     "metadata": {},
     "output_type": "execute_result"
    },
    {
     "data": {
      "image/png": "[encoded data removed]",
      "text/plain": [
       "<Figure size 720x504 with 2 Axes>"
      ]
     },
     "metadata": {
      "needs_background": "light"
     },
     "output_type": "display_data"
    }
   ],
   "source": [
    "housing.plot(kind=\"scatter\", x=\"Longtitude\", y=\"Lattitude\", alpha=1,\n",
    "    s=housing[\"Rooms\"]/100, label=\"Rooms\", figsize=(10,7),\n",
    "    c=\"Price\", cmap=plt.get_cmap(\"jet\"), colorbar=True,\n",
    "    sharex=False)\n",
    "plt.legend()"
   ]
  },
  {
   "cell_type": "code",
   "execution_count": 20,
   "metadata": {},
   "outputs": [],
   "source": [
    "housing[\"Rooms_per_YearBuilt\"] = housing[\"Rooms\"]/housing[\"YearBuilt\"]\n",
    "#housing[\"room_per_buildingArea1\"] = housing[\"BuildingArea\"]/housing[\"Rooms\"]\n",
    "#housing[\"bedroom_per_buildingArea1\"] = housing[\"BuildingArea\"]/housing[\"Bedroom2\"]\n",
    "housing[\"Distnce_per_household\"]=housing[\"BuildingArea\"]/housing[\"Distance\"]\n",
    "#housing[\"Rooms_per_Landsize1\"]=housing[\"Landsize\"]/housing[\"Rooms\"]\n",
    "\n",
    "housing[\"RoomsSum\"] = housing[\"Rooms\"] + housing[\"Bedroom2\"] + housing[\"Bathroom\"] + housing[\"Car\"]\n",
    "#housing[\"GardenArea\"] = housing[\"Landsize\"] - housing[\"BuildingArea\"]\n",
    "#housing['RoomPerGardenArea1'] = housing[\"BuildingArea\"]/housing[\"RoomsSum\"]"
   ]
  },
  {
   "cell_type": "code",
   "execution_count": 21,
   "metadata": {},
   "outputs": [
    {
     "data": {
      "text/plain": [
       "Price                    1.000000\n",
       "Rooms_per_YearBuilt      0.614529\n",
       "RoomsSum                 0.582268\n",
       "Rooms                    0.556374\n",
       "Bedroom2                 0.532209\n",
       "Bathroom                 0.515975\n",
       "BuildingArea             0.361064\n",
       "Distnce_per_household    0.342046\n",
       "Car                      0.287505\n",
       "Postcode                 0.273237\n",
       "Longtitude               0.253092\n",
       "Landsize                 0.071443\n",
       "Distance                -0.073167\n",
       "Lattitude               -0.243165\n",
       "YearBuilt               -0.319787\n",
       "Name: Price, dtype: float64"
      ]
     },
     "execution_count": 21,
     "metadata": {},
     "output_type": "execute_result"
    }
   ],
   "source": [
    "housing.corr().Price.sort_values(ascending=False)"
   ]
  },
  {
   "cell_type": "code",
   "execution_count": 22,
   "metadata": {},
   "outputs": [],
   "source": [
    "#housing = housing.drop('YearBuilt',axis=1)\n",
    "#housing = housing.drop('Distance',axis=1)\n",
    "#housing = housing.drop('Landsize',axis=1)"
   ]
  },
  {
   "cell_type": "code",
   "execution_count": 23,
   "metadata": {},
   "outputs": [
    {
     "data": {
      "text/html": [
       "<div>\n",
       "<style scoped>\n",
       "    .dataframe tbody tr th:only-of-type {\n",
       "        vertical-align: middle;\n",
       "    }\n",
       "\n",
       "    .dataframe tbody tr th {\n",
       "        vertical-align: top;\n",
       "    }\n",
       "\n",
       "    .dataframe thead th {\n",
       "        text-align: right;\n",
       "    }\n",
       "</style>\n",
       "<table border=\"1\" class=\"dataframe\">\n",
       "  <thead>\n",
       "    <tr style=\"text-align: right;\">\n",
       "      <th></th>\n",
       "      <th>Suburb</th>\n",
       "      <th>Address</th>\n",
       "      <th>Rooms</th>\n",
       "      <th>Type</th>\n",
       "      <th>Price</th>\n",
       "      <th>Method</th>\n",
       "      <th>SellerG</th>\n",
       "      <th>Date</th>\n",
       "      <th>Distance</th>\n",
       "      <th>Postcode</th>\n",
       "      <th>...</th>\n",
       "      <th>Car</th>\n",
       "      <th>Landsize</th>\n",
       "      <th>BuildingArea</th>\n",
       "      <th>YearBuilt</th>\n",
       "      <th>CouncilArea</th>\n",
       "      <th>Lattitude</th>\n",
       "      <th>Longtitude</th>\n",
       "      <th>Rooms_per_YearBuilt</th>\n",
       "      <th>Distnce_per_household</th>\n",
       "      <th>RoomsSum</th>\n",
       "    </tr>\n",
       "  </thead>\n",
       "  <tbody>\n",
       "    <tr>\n",
       "      <th>0</th>\n",
       "      <td>Abbotsford</td>\n",
       "      <td>68 Studley St</td>\n",
       "      <td>2.0</td>\n",
       "      <td>h</td>\n",
       "      <td>NaN</td>\n",
       "      <td>SS</td>\n",
       "      <td>Jellis</td>\n",
       "      <td>3/9/2016</td>\n",
       "      <td>2.5</td>\n",
       "      <td>3067.0</td>\n",
       "      <td>...</td>\n",
       "      <td>1.0</td>\n",
       "      <td>126.0</td>\n",
       "      <td>NaN</td>\n",
       "      <td>NaN</td>\n",
       "      <td>Yarra</td>\n",
       "      <td>-37.8014</td>\n",
       "      <td>144.9958</td>\n",
       "      <td>NaN</td>\n",
       "      <td>NaN</td>\n",
       "      <td>6.0</td>\n",
       "    </tr>\n",
       "    <tr>\n",
       "      <th>1</th>\n",
       "      <td>Abbotsford</td>\n",
       "      <td>85 Turner St</td>\n",
       "      <td>2.0</td>\n",
       "      <td>h</td>\n",
       "      <td>1480000.0</td>\n",
       "      <td>S</td>\n",
       "      <td>Biggin</td>\n",
       "      <td>3/12/2016</td>\n",
       "      <td>2.5</td>\n",
       "      <td>3067.0</td>\n",
       "      <td>...</td>\n",
       "      <td>1.0</td>\n",
       "      <td>202.0</td>\n",
       "      <td>NaN</td>\n",
       "      <td>NaN</td>\n",
       "      <td>Yarra</td>\n",
       "      <td>-37.7996</td>\n",
       "      <td>144.9984</td>\n",
       "      <td>NaN</td>\n",
       "      <td>NaN</td>\n",
       "      <td>6.0</td>\n",
       "    </tr>\n",
       "    <tr>\n",
       "      <th>2</th>\n",
       "      <td>Abbotsford</td>\n",
       "      <td>25 Bloomburg St</td>\n",
       "      <td>2.0</td>\n",
       "      <td>h</td>\n",
       "      <td>1035000.0</td>\n",
       "      <td>S</td>\n",
       "      <td>Biggin</td>\n",
       "      <td>4/2/2016</td>\n",
       "      <td>2.5</td>\n",
       "      <td>3067.0</td>\n",
       "      <td>...</td>\n",
       "      <td>0.0</td>\n",
       "      <td>156.0</td>\n",
       "      <td>79.0</td>\n",
       "      <td>1900.0</td>\n",
       "      <td>Yarra</td>\n",
       "      <td>-37.8079</td>\n",
       "      <td>144.9934</td>\n",
       "      <td>0.001053</td>\n",
       "      <td>31.6</td>\n",
       "      <td>5.0</td>\n",
       "    </tr>\n",
       "    <tr>\n",
       "      <th>3</th>\n",
       "      <td>Abbotsford</td>\n",
       "      <td>18/659 Victoria St</td>\n",
       "      <td>3.0</td>\n",
       "      <td>u</td>\n",
       "      <td>NaN</td>\n",
       "      <td>VB</td>\n",
       "      <td>Rounds</td>\n",
       "      <td>4/2/2016</td>\n",
       "      <td>2.5</td>\n",
       "      <td>3067.0</td>\n",
       "      <td>...</td>\n",
       "      <td>1.0</td>\n",
       "      <td>0.0</td>\n",
       "      <td>NaN</td>\n",
       "      <td>NaN</td>\n",
       "      <td>Yarra</td>\n",
       "      <td>-37.8114</td>\n",
       "      <td>145.0116</td>\n",
       "      <td>NaN</td>\n",
       "      <td>NaN</td>\n",
       "      <td>9.0</td>\n",
       "    </tr>\n",
       "    <tr>\n",
       "      <th>4</th>\n",
       "      <td>Abbotsford</td>\n",
       "      <td>5 Charles St</td>\n",
       "      <td>3.0</td>\n",
       "      <td>h</td>\n",
       "      <td>1465000.0</td>\n",
       "      <td>SP</td>\n",
       "      <td>Biggin</td>\n",
       "      <td>4/3/2017</td>\n",
       "      <td>2.5</td>\n",
       "      <td>3067.0</td>\n",
       "      <td>...</td>\n",
       "      <td>0.0</td>\n",
       "      <td>134.0</td>\n",
       "      <td>150.0</td>\n",
       "      <td>1900.0</td>\n",
       "      <td>Yarra</td>\n",
       "      <td>-37.8093</td>\n",
       "      <td>144.9944</td>\n",
       "      <td>0.001579</td>\n",
       "      <td>60.0</td>\n",
       "      <td>8.0</td>\n",
       "    </tr>\n",
       "  </tbody>\n",
       "</table>\n",
       "<p>5 rows × 22 columns</p>\n",
       "</div>"
      ],
      "text/plain": [
       "       Suburb             Address  Rooms Type      Price Method SellerG  \\\n",
       "0  Abbotsford       68 Studley St    2.0    h        NaN     SS  Jellis   \n",
       "1  Abbotsford        85 Turner St    2.0    h  1480000.0      S  Biggin   \n",
       "2  Abbotsford     25 Bloomburg St    2.0    h  1035000.0      S  Biggin   \n",
       "3  Abbotsford  18/659 Victoria St    3.0    u        NaN     VB  Rounds   \n",
       "4  Abbotsford        5 Charles St    3.0    h  1465000.0     SP  Biggin   \n",
       "\n",
       "        Date  Distance  Postcode    ...     Car  Landsize  BuildingArea  \\\n",
       "0   3/9/2016       2.5    3067.0    ...     1.0     126.0           NaN   \n",
       "1  3/12/2016       2.5    3067.0    ...     1.0     202.0           NaN   \n",
       "2   4/2/2016       2.5    3067.0    ...     0.0     156.0          79.0   \n",
       "3   4/2/2016       2.5    3067.0    ...     1.0       0.0           NaN   \n",
       "4   4/3/2017       2.5    3067.0    ...     0.0     134.0         150.0   \n",
       "\n",
       "   YearBuilt  CouncilArea  Lattitude Longtitude  Rooms_per_YearBuilt  \\\n",
       "0        NaN        Yarra   -37.8014   144.9958                  NaN   \n",
       "1        NaN        Yarra   -37.7996   144.9984                  NaN   \n",
       "2     1900.0        Yarra   -37.8079   144.9934             0.001053   \n",
       "3        NaN        Yarra   -37.8114   145.0116                  NaN   \n",
       "4     1900.0        Yarra   -37.8093   144.9944             0.001579   \n",
       "\n",
       "   Distnce_per_household  RoomsSum  \n",
       "0                    NaN       6.0  \n",
       "1                    NaN       6.0  \n",
       "2                   31.6       5.0  \n",
       "3                    NaN       9.0  \n",
       "4                   60.0       8.0  \n",
       "\n",
       "[5 rows x 22 columns]"
      ]
     },
     "execution_count": 23,
     "metadata": {},
     "output_type": "execute_result"
    }
   ],
   "source": [
    "housing.head()"
   ]
  },
  {
   "cell_type": "code",
   "execution_count": 24,
   "metadata": {},
   "outputs": [
    {
     "data": {
      "text/plain": [
       "array([[<matplotlib.axes._subplots.AxesSubplot object at 0x000002BAC235E828>,\n",
       "        <matplotlib.axes._subplots.AxesSubplot object at 0x000002BABE4D5B70>,\n",
       "        <matplotlib.axes._subplots.AxesSubplot object at 0x000002BABE4FD160>,\n",
       "        <matplotlib.axes._subplots.AxesSubplot object at 0x000002BABE5227B8>,\n",
       "        <matplotlib.axes._subplots.AxesSubplot object at 0x000002BABE54AE48>,\n",
       "        <matplotlib.axes._subplots.AxesSubplot object at 0x000002BABE54AE80>,\n",
       "        <matplotlib.axes._subplots.AxesSubplot object at 0x000002BABE5A1BA8>],\n",
       "       [<matplotlib.axes._subplots.AxesSubplot object at 0x000002BABE5D4278>,\n",
       "        <matplotlib.axes._subplots.AxesSubplot object at 0x000002BABE5FE908>,\n",
       "        <matplotlib.axes._subplots.AxesSubplot object at 0x000002BAC2395F98>,\n",
       "        <matplotlib.axes._subplots.AxesSubplot object at 0x000002BAC23C5668>,\n",
       "        <matplotlib.axes._subplots.AxesSubplot object at 0x000002BAC23EDCF8>,\n",
       "        <matplotlib.axes._subplots.AxesSubplot object at 0x000002BAC24203C8>,\n",
       "        <matplotlib.axes._subplots.AxesSubplot object at 0x000002BAC2449A58>],\n",
       "       [<matplotlib.axes._subplots.AxesSubplot object at 0x000002BAC247A128>,\n",
       "        <matplotlib.axes._subplots.AxesSubplot object at 0x000002BAC24A17B8>,\n",
       "        <matplotlib.axes._subplots.AxesSubplot object at 0x000002BAC24CCE48>,\n",
       "        <matplotlib.axes._subplots.AxesSubplot object at 0x000002BAC28CB518>,\n",
       "        <matplotlib.axes._subplots.AxesSubplot object at 0x000002BAC28F5BA8>,\n",
       "        <matplotlib.axes._subplots.AxesSubplot object at 0x000002BAC2928278>,\n",
       "        <matplotlib.axes._subplots.AxesSubplot object at 0x000002BAC294E908>],\n",
       "       [<matplotlib.axes._subplots.AxesSubplot object at 0x000002BAC2977F98>,\n",
       "        <matplotlib.axes._subplots.AxesSubplot object at 0x000002BAC29A8668>,\n",
       "        <matplotlib.axes._subplots.AxesSubplot object at 0x000002BAC29CFCF8>,\n",
       "        <matplotlib.axes._subplots.AxesSubplot object at 0x000002BAC2A023C8>,\n",
       "        <matplotlib.axes._subplots.AxesSubplot object at 0x000002BAC2A29A58>,\n",
       "        <matplotlib.axes._subplots.AxesSubplot object at 0x000002BAC2C4C128>,\n",
       "        <matplotlib.axes._subplots.AxesSubplot object at 0x000002BAC2C747B8>],\n",
       "       [<matplotlib.axes._subplots.AxesSubplot object at 0x000002BAC2C9DE48>,\n",
       "        <matplotlib.axes._subplots.AxesSubplot object at 0x000002BAC2CCE518>,\n",
       "        <matplotlib.axes._subplots.AxesSubplot object at 0x000002BAC2CF6BA8>,\n",
       "        <matplotlib.axes._subplots.AxesSubplot object at 0x000002BAC2D29278>,\n",
       "        <matplotlib.axes._subplots.AxesSubplot object at 0x000002BAC2D52908>,\n",
       "        <matplotlib.axes._subplots.AxesSubplot object at 0x000002BAC2D79F98>,\n",
       "        <matplotlib.axes._subplots.AxesSubplot object at 0x000002BAC2DAC668>],\n",
       "       [<matplotlib.axes._subplots.AxesSubplot object at 0x000002BAC2DD3CF8>,\n",
       "        <matplotlib.axes._subplots.AxesSubplot object at 0x000002BAC2E033C8>,\n",
       "        <matplotlib.axes._subplots.AxesSubplot object at 0x000002BAC2E2CA58>,\n",
       "        <matplotlib.axes._subplots.AxesSubplot object at 0x000002BAC2E5F128>,\n",
       "        <matplotlib.axes._subplots.AxesSubplot object at 0x000002BAC2E847B8>,\n",
       "        <matplotlib.axes._subplots.AxesSubplot object at 0x000002BAC2EAFE48>,\n",
       "        <matplotlib.axes._subplots.AxesSubplot object at 0x000002BAC2EE0518>],\n",
       "       [<matplotlib.axes._subplots.AxesSubplot object at 0x000002BAC2F0ABA8>,\n",
       "        <matplotlib.axes._subplots.AxesSubplot object at 0x000002BAC2F3C278>,\n",
       "        <matplotlib.axes._subplots.AxesSubplot object at 0x000002BAC2F63908>,\n",
       "        <matplotlib.axes._subplots.AxesSubplot object at 0x000002BAC2F8DF98>,\n",
       "        <matplotlib.axes._subplots.AxesSubplot object at 0x000002BAC2FBC668>,\n",
       "        <matplotlib.axes._subplots.AxesSubplot object at 0x000002BAC2FE3CF8>,\n",
       "        <matplotlib.axes._subplots.AxesSubplot object at 0x000002BAC0D48EF0>]],\n",
       "      dtype=object)"
      ]
     },
     "execution_count": 24,
     "metadata": {},
     "output_type": "execute_result"
    },
    {
     "data": {
      "image/png": "[encoded data removed]",
      "text/plain": [
       "<Figure size 864x864 with 49 Axes>"
      ]
     },
     "metadata": {
      "needs_background": "light"
     },
     "output_type": "display_data"
    }
   ],
   "source": [
    "from pandas.plotting import scatter_matrix\n",
    "\n",
    "attributes = [\"Price\", \"Rooms\", \"BuildingArea\", \"Rooms_per_YearBuilt\", \"Bedroom2\", \"Bathroom\",\n",
    "              \"Car\"]\n",
    "scatter_matrix(housing[attributes], figsize=(12, 12))"
   ]
  },
  {
   "cell_type": "code",
   "execution_count": 25,
   "metadata": {},
   "outputs": [],
   "source": [
    "train_set, test_set = train_test_split(housing, test_size=0.2, random_state=42)\n",
    "\n",
    "train_set_impu = train_set.drop(\"Suburb\", axis=1)\n",
    "train_set_impu = train_set_impu.drop(\"Address\", axis=1) #drop\n",
    "train_set_impu = train_set_impu.drop(\"Method\", axis=1)\n",
    "train_set_impu = train_set_impu.drop(\"SellerG\", axis=1)\n",
    "train_set_impu = train_set_impu.drop(\"CouncilArea\", axis=1)\n",
    "train_set_impu = train_set_impu.drop(\"Type\", axis=1)\n",
    "train_set_impu = train_set_impu.drop(\"Date\", axis=1)\n",
    "train_set_impu = train_set_impu.drop(\"Lattitude\", axis=1)\n",
    "train_set_impu = train_set_impu.drop(\"Longtitude\", axis=1)\n",
    "#train_set_impu = train_set_impu.drop(\"YearBuilt\", axis=1)\n",
    "#train_set_impu = train_set_impu.drop(\"Postcode\", axis=1)\n",
    "train_set_num = train_set_impu.copy()"
   ]
  },
  {
   "cell_type": "code",
   "execution_count": 26,
   "metadata": {},
   "outputs": [
    {
     "data": {
      "text/html": [
       "<div>\n",
       "<style scoped>\n",
       "    .dataframe tbody tr th:only-of-type {\n",
       "        vertical-align: middle;\n",
       "    }\n",
       "\n",
       "    .dataframe tbody tr th {\n",
       "        vertical-align: top;\n",
       "    }\n",
       "\n",
       "    .dataframe thead th {\n",
       "        text-align: right;\n",
       "    }\n",
       "</style>\n",
       "<table border=\"1\" class=\"dataframe\">\n",
       "  <thead>\n",
       "    <tr style=\"text-align: right;\">\n",
       "      <th></th>\n",
       "      <th>Suburb</th>\n",
       "      <th>Address</th>\n",
       "      <th>Rooms</th>\n",
       "      <th>Type</th>\n",
       "      <th>Price</th>\n",
       "      <th>Method</th>\n",
       "      <th>SellerG</th>\n",
       "      <th>Date</th>\n",
       "      <th>Distance</th>\n",
       "      <th>Postcode</th>\n",
       "      <th>...</th>\n",
       "      <th>Car</th>\n",
       "      <th>Landsize</th>\n",
       "      <th>BuildingArea</th>\n",
       "      <th>YearBuilt</th>\n",
       "      <th>CouncilArea</th>\n",
       "      <th>Lattitude</th>\n",
       "      <th>Longtitude</th>\n",
       "      <th>Rooms_per_YearBuilt</th>\n",
       "      <th>Distnce_per_household</th>\n",
       "      <th>RoomsSum</th>\n",
       "    </tr>\n",
       "  </thead>\n",
       "  <tbody>\n",
       "    <tr>\n",
       "      <th>0</th>\n",
       "      <td>Abbotsford</td>\n",
       "      <td>68 Studley St</td>\n",
       "      <td>2.0</td>\n",
       "      <td>h</td>\n",
       "      <td>NaN</td>\n",
       "      <td>SS</td>\n",
       "      <td>Jellis</td>\n",
       "      <td>3/9/2016</td>\n",
       "      <td>2.5</td>\n",
       "      <td>3067.0</td>\n",
       "      <td>...</td>\n",
       "      <td>1.0</td>\n",
       "      <td>126.0</td>\n",
       "      <td>NaN</td>\n",
       "      <td>NaN</td>\n",
       "      <td>Yarra</td>\n",
       "      <td>-37.8014</td>\n",
       "      <td>144.9958</td>\n",
       "      <td>NaN</td>\n",
       "      <td>NaN</td>\n",
       "      <td>6.0</td>\n",
       "    </tr>\n",
       "    <tr>\n",
       "      <th>1</th>\n",
       "      <td>Abbotsford</td>\n",
       "      <td>85 Turner St</td>\n",
       "      <td>2.0</td>\n",
       "      <td>h</td>\n",
       "      <td>1480000.0</td>\n",
       "      <td>S</td>\n",
       "      <td>Biggin</td>\n",
       "      <td>3/12/2016</td>\n",
       "      <td>2.5</td>\n",
       "      <td>3067.0</td>\n",
       "      <td>...</td>\n",
       "      <td>1.0</td>\n",
       "      <td>202.0</td>\n",
       "      <td>NaN</td>\n",
       "      <td>NaN</td>\n",
       "      <td>Yarra</td>\n",
       "      <td>-37.7996</td>\n",
       "      <td>144.9984</td>\n",
       "      <td>NaN</td>\n",
       "      <td>NaN</td>\n",
       "      <td>6.0</td>\n",
       "    </tr>\n",
       "    <tr>\n",
       "      <th>3</th>\n",
       "      <td>Abbotsford</td>\n",
       "      <td>18/659 Victoria St</td>\n",
       "      <td>3.0</td>\n",
       "      <td>u</td>\n",
       "      <td>NaN</td>\n",
       "      <td>VB</td>\n",
       "      <td>Rounds</td>\n",
       "      <td>4/2/2016</td>\n",
       "      <td>2.5</td>\n",
       "      <td>3067.0</td>\n",
       "      <td>...</td>\n",
       "      <td>1.0</td>\n",
       "      <td>0.0</td>\n",
       "      <td>NaN</td>\n",
       "      <td>NaN</td>\n",
       "      <td>Yarra</td>\n",
       "      <td>-37.8114</td>\n",
       "      <td>145.0116</td>\n",
       "      <td>NaN</td>\n",
       "      <td>NaN</td>\n",
       "      <td>9.0</td>\n",
       "    </tr>\n",
       "    <tr>\n",
       "      <th>5</th>\n",
       "      <td>Abbotsford</td>\n",
       "      <td>40 Federation La</td>\n",
       "      <td>3.0</td>\n",
       "      <td>h</td>\n",
       "      <td>850000.0</td>\n",
       "      <td>PI</td>\n",
       "      <td>Biggin</td>\n",
       "      <td>4/3/2017</td>\n",
       "      <td>2.5</td>\n",
       "      <td>3067.0</td>\n",
       "      <td>...</td>\n",
       "      <td>1.0</td>\n",
       "      <td>94.0</td>\n",
       "      <td>NaN</td>\n",
       "      <td>NaN</td>\n",
       "      <td>Yarra</td>\n",
       "      <td>-37.7969</td>\n",
       "      <td>144.9969</td>\n",
       "      <td>NaN</td>\n",
       "      <td>NaN</td>\n",
       "      <td>9.0</td>\n",
       "    </tr>\n",
       "    <tr>\n",
       "      <th>7</th>\n",
       "      <td>Abbotsford</td>\n",
       "      <td>16 Maugie St</td>\n",
       "      <td>4.0</td>\n",
       "      <td>h</td>\n",
       "      <td>NaN</td>\n",
       "      <td>SN</td>\n",
       "      <td>Nelson</td>\n",
       "      <td>6/8/2016</td>\n",
       "      <td>2.5</td>\n",
       "      <td>3067.0</td>\n",
       "      <td>...</td>\n",
       "      <td>2.0</td>\n",
       "      <td>400.0</td>\n",
       "      <td>220.0</td>\n",
       "      <td>2006.0</td>\n",
       "      <td>Yarra</td>\n",
       "      <td>-37.7965</td>\n",
       "      <td>144.9965</td>\n",
       "      <td>0.001994</td>\n",
       "      <td>88.0</td>\n",
       "      <td>11.0</td>\n",
       "    </tr>\n",
       "  </tbody>\n",
       "</table>\n",
       "<p>5 rows × 22 columns</p>\n",
       "</div>"
      ],
      "text/plain": [
       "       Suburb             Address  Rooms Type      Price Method SellerG  \\\n",
       "0  Abbotsford       68 Studley St    2.0    h        NaN     SS  Jellis   \n",
       "1  Abbotsford        85 Turner St    2.0    h  1480000.0      S  Biggin   \n",
       "3  Abbotsford  18/659 Victoria St    3.0    u        NaN     VB  Rounds   \n",
       "5  Abbotsford    40 Federation La    3.0    h   850000.0     PI  Biggin   \n",
       "7  Abbotsford        16 Maugie St    4.0    h        NaN     SN  Nelson   \n",
       "\n",
       "        Date  Distance  Postcode    ...     Car  Landsize  BuildingArea  \\\n",
       "0   3/9/2016       2.5    3067.0    ...     1.0     126.0           NaN   \n",
       "1  3/12/2016       2.5    3067.0    ...     1.0     202.0           NaN   \n",
       "3   4/2/2016       2.5    3067.0    ...     1.0       0.0           NaN   \n",
       "5   4/3/2017       2.5    3067.0    ...     1.0      94.0           NaN   \n",
       "7   6/8/2016       2.5    3067.0    ...     2.0     400.0         220.0   \n",
       "\n",
       "   YearBuilt  CouncilArea  Lattitude Longtitude  Rooms_per_YearBuilt  \\\n",
       "0        NaN        Yarra   -37.8014   144.9958                  NaN   \n",
       "1        NaN        Yarra   -37.7996   144.9984                  NaN   \n",
       "3        NaN        Yarra   -37.8114   145.0116                  NaN   \n",
       "5        NaN        Yarra   -37.7969   144.9969                  NaN   \n",
       "7     2006.0        Yarra   -37.7965   144.9965             0.001994   \n",
       "\n",
       "   Distnce_per_household  RoomsSum  \n",
       "0                    NaN       6.0  \n",
       "1                    NaN       6.0  \n",
       "3                    NaN       9.0  \n",
       "5                    NaN       9.0  \n",
       "7                   88.0      11.0  \n",
       "\n",
       "[5 rows x 22 columns]"
      ]
     },
     "execution_count": 26,
     "metadata": {},
     "output_type": "execute_result"
    }
   ],
   "source": [
    "housing[housing.isnull().any(axis=1)].head()"
   ]
  },
  {
   "cell_type": "code",
   "execution_count": 27,
   "metadata": {},
   "outputs": [
    {
     "data": {
      "text/plain": [
       "Price                    1.000000\n",
       "Rooms_per_YearBuilt      0.614529\n",
       "RoomsSum                 0.582268\n",
       "Rooms                    0.556374\n",
       "Bedroom2                 0.532209\n",
       "Bathroom                 0.515975\n",
       "BuildingArea             0.361064\n",
       "Distnce_per_household    0.342046\n",
       "Car                      0.287505\n",
       "Postcode                 0.273237\n",
       "Longtitude               0.253092\n",
       "Landsize                 0.071443\n",
       "Distance                -0.073167\n",
       "Lattitude               -0.243165\n",
       "YearBuilt               -0.319787\n",
       "Name: Price, dtype: float64"
      ]
     },
     "execution_count": 27,
     "metadata": {},
     "output_type": "execute_result"
    }
   ],
   "source": [
    "housing.corr().Price.sort_values(ascending=False)"
   ]
  },
  {
   "cell_type": "code",
   "execution_count": 28,
   "metadata": {},
   "outputs": [
    {
     "data": {
      "text/plain": [
       "array([3.00000000e+00, 8.99000000e+05, 8.80000000e+00, 3.08400000e+03,\n",
       "       3.00000000e+00, 1.00000000e+00, 1.00000000e+00, 3.50000000e+02,\n",
       "       1.24000000e+02, 1.96500000e+03, 1.52091265e-03, 1.59782609e+01,\n",
       "       9.00000000e+00])"
      ]
     },
     "execution_count": 28,
     "metadata": {},
     "output_type": "execute_result"
    }
   ],
   "source": [
    "from sklearn.preprocessing import Imputer\n",
    "imputer = Imputer(strategy=\"median\")\n",
    "#housing_num = housing.drop(\"Price\", axis=1)\n",
    "imputer.fit(train_set_impu)\n",
    "\n",
    "imputer.statistics_"
   ]
  },
  {
   "cell_type": "code",
   "execution_count": 29,
   "metadata": {},
   "outputs": [
    {
     "data": {
      "text/plain": [
       "array([3.00000000e+00, 8.99000000e+05, 8.80000000e+00, 3.08400000e+03,\n",
       "       3.00000000e+00, 1.00000000e+00, 1.00000000e+00, 3.50000000e+02,\n",
       "       1.24000000e+02, 1.96500000e+03, 1.52091265e-03, 1.59782609e+01,\n",
       "       9.00000000e+00])"
      ]
     },
     "execution_count": 29,
     "metadata": {},
     "output_type": "execute_result"
    }
   ],
   "source": [
    "train_set_impu.median().values"
   ]
  },
  {
   "cell_type": "code",
   "execution_count": 30,
   "metadata": {},
   "outputs": [
    {
     "name": "stdout",
     "output_type": "stream",
     "text": [
      "11377 housing_transformed_trained \n"
     ]
    }
   ],
   "source": [
    "X = imputer.transform(train_set_impu)\n",
    "housing_transformed_trained = pd.DataFrame(X, columns=train_set_impu.columns)\n",
    "print(len(housing_transformed_trained), \"housing_transformed_trained \")\n"
   ]
  },
  {
   "cell_type": "code",
   "execution_count": 31,
   "metadata": {},
   "outputs": [
    {
     "name": "stdout",
     "output_type": "stream",
     "text": [
      "['Rooms', 'Price', 'Distance', 'Postcode', 'Bedroom2', 'Bathroom', 'Car', 'Landsize', 'BuildingArea', 'YearBuilt', 'Rooms_per_YearBuilt', 'Distnce_per_household', 'RoomsSum']\n"
     ]
    }
   ],
   "source": [
    "num_attribs = list(train_set_num)\n",
    "print(num_attribs)"
   ]
  },
  {
   "cell_type": "code",
   "execution_count": 32,
   "metadata": {},
   "outputs": [
    {
     "data": {
      "text/html": [
       "<div>\n",
       "<style scoped>\n",
       "    .dataframe tbody tr th:only-of-type {\n",
       "        vertical-align: middle;\n",
       "    }\n",
       "\n",
       "    .dataframe tbody tr th {\n",
       "        vertical-align: top;\n",
       "    }\n",
       "\n",
       "    .dataframe thead th {\n",
       "        text-align: right;\n",
       "    }\n",
       "</style>\n",
       "<table border=\"1\" class=\"dataframe\">\n",
       "  <thead>\n",
       "    <tr style=\"text-align: right;\">\n",
       "      <th></th>\n",
       "      <th>Rooms</th>\n",
       "      <th>Price</th>\n",
       "      <th>Distance</th>\n",
       "      <th>Postcode</th>\n",
       "      <th>Bedroom2</th>\n",
       "      <th>Bathroom</th>\n",
       "      <th>Car</th>\n",
       "      <th>Landsize</th>\n",
       "      <th>BuildingArea</th>\n",
       "      <th>YearBuilt</th>\n",
       "      <th>Rooms_per_YearBuilt</th>\n",
       "      <th>Distnce_per_household</th>\n",
       "      <th>RoomsSum</th>\n",
       "    </tr>\n",
       "  </thead>\n",
       "  <tbody>\n",
       "    <tr>\n",
       "      <th>count</th>\n",
       "      <td>11377.000000</td>\n",
       "      <td>8.869000e+03</td>\n",
       "      <td>11377.000000</td>\n",
       "      <td>11377.000000</td>\n",
       "      <td>8982.000000</td>\n",
       "      <td>8982.000000</td>\n",
       "      <td>8982.000000</td>\n",
       "      <td>8968.000000</td>\n",
       "      <td>4931.000000</td>\n",
       "      <td>5678.000000</td>\n",
       "      <td>5678.000000</td>\n",
       "      <td>4931.000000</td>\n",
       "      <td>8982.000000</td>\n",
       "    </tr>\n",
       "    <tr>\n",
       "      <th>mean</th>\n",
       "      <td>2.888108</td>\n",
       "      <td>1.078286e+06</td>\n",
       "      <td>8.635361</td>\n",
       "      <td>3098.150303</td>\n",
       "      <td>2.831218</td>\n",
       "      <td>1.529169</td>\n",
       "      <td>1.537965</td>\n",
       "      <td>474.188894</td>\n",
       "      <td>145.206569</td>\n",
       "      <td>1960.565692</td>\n",
       "      <td>0.001474</td>\n",
       "      <td>21.142995</td>\n",
       "      <td>8.766867</td>\n",
       "    </tr>\n",
       "    <tr>\n",
       "      <th>std</th>\n",
       "      <td>0.978072</td>\n",
       "      <td>6.657436e+05</td>\n",
       "      <td>3.563945</td>\n",
       "      <td>59.668930</td>\n",
       "      <td>0.986160</td>\n",
       "      <td>0.713015</td>\n",
       "      <td>0.976882</td>\n",
       "      <td>1276.532358</td>\n",
       "      <td>128.375477</td>\n",
       "      <td>38.096669</td>\n",
       "      <td>0.000515</td>\n",
       "      <td>18.856597</td>\n",
       "      <td>2.964208</td>\n",
       "    </tr>\n",
       "    <tr>\n",
       "      <th>min</th>\n",
       "      <td>1.000000</td>\n",
       "      <td>8.500000e+04</td>\n",
       "      <td>1.200000</td>\n",
       "      <td>3000.000000</td>\n",
       "      <td>0.000000</td>\n",
       "      <td>0.000000</td>\n",
       "      <td>0.000000</td>\n",
       "      <td>0.000000</td>\n",
       "      <td>0.000000</td>\n",
       "      <td>1800.000000</td>\n",
       "      <td>0.000496</td>\n",
       "      <td>0.000000</td>\n",
       "      <td>2.000000</td>\n",
       "    </tr>\n",
       "    <tr>\n",
       "      <th>25%</th>\n",
       "      <td>2.000000</td>\n",
       "      <td>6.400000e+05</td>\n",
       "      <td>5.900000</td>\n",
       "      <td>3046.000000</td>\n",
       "      <td>2.000000</td>\n",
       "      <td>1.000000</td>\n",
       "      <td>1.000000</td>\n",
       "      <td>141.750000</td>\n",
       "      <td>90.000000</td>\n",
       "      <td>1930.000000</td>\n",
       "      <td>0.001020</td>\n",
       "      <td>10.411665</td>\n",
       "      <td>6.000000</td>\n",
       "    </tr>\n",
       "    <tr>\n",
       "      <th>50%</th>\n",
       "      <td>3.000000</td>\n",
       "      <td>8.990000e+05</td>\n",
       "      <td>8.800000</td>\n",
       "      <td>3084.000000</td>\n",
       "      <td>3.000000</td>\n",
       "      <td>1.000000</td>\n",
       "      <td>1.000000</td>\n",
       "      <td>350.000000</td>\n",
       "      <td>124.000000</td>\n",
       "      <td>1965.000000</td>\n",
       "      <td>0.001521</td>\n",
       "      <td>15.978261</td>\n",
       "      <td>9.000000</td>\n",
       "    </tr>\n",
       "    <tr>\n",
       "      <th>75%</th>\n",
       "      <td>3.000000</td>\n",
       "      <td>1.330000e+06</td>\n",
       "      <td>11.200000</td>\n",
       "      <td>3146.000000</td>\n",
       "      <td>3.000000</td>\n",
       "      <td>2.000000</td>\n",
       "      <td>2.000000</td>\n",
       "      <td>624.000000</td>\n",
       "      <td>175.000000</td>\n",
       "      <td>1998.000000</td>\n",
       "      <td>0.001983</td>\n",
       "      <td>25.423729</td>\n",
       "      <td>10.000000</td>\n",
       "    </tr>\n",
       "    <tr>\n",
       "      <th>max</th>\n",
       "      <td>12.000000</td>\n",
       "      <td>8.000000e+06</td>\n",
       "      <td>15.000000</td>\n",
       "      <td>3207.000000</td>\n",
       "      <td>20.000000</td>\n",
       "      <td>8.000000</td>\n",
       "      <td>26.000000</td>\n",
       "      <td>75100.000000</td>\n",
       "      <td>6791.000000</td>\n",
       "      <td>2018.000000</td>\n",
       "      <td>0.005076</td>\n",
       "      <td>575.508475</td>\n",
       "      <td>32.000000</td>\n",
       "    </tr>\n",
       "  </tbody>\n",
       "</table>\n",
       "</div>"
      ],
      "text/plain": [
       "              Rooms         Price      Distance      Postcode     Bedroom2  \\\n",
       "count  11377.000000  8.869000e+03  11377.000000  11377.000000  8982.000000   \n",
       "mean       2.888108  1.078286e+06      8.635361   3098.150303     2.831218   \n",
       "std        0.978072  6.657436e+05      3.563945     59.668930     0.986160   \n",
       "min        1.000000  8.500000e+04      1.200000   3000.000000     0.000000   \n",
       "25%        2.000000  6.400000e+05      5.900000   3046.000000     2.000000   \n",
       "50%        3.000000  8.990000e+05      8.800000   3084.000000     3.000000   \n",
       "75%        3.000000  1.330000e+06     11.200000   3146.000000     3.000000   \n",
       "max       12.000000  8.000000e+06     15.000000   3207.000000    20.000000   \n",
       "\n",
       "          Bathroom          Car      Landsize  BuildingArea    YearBuilt  \\\n",
       "count  8982.000000  8982.000000   8968.000000   4931.000000  5678.000000   \n",
       "mean      1.529169     1.537965    474.188894    145.206569  1960.565692   \n",
       "std       0.713015     0.976882   1276.532358    128.375477    38.096669   \n",
       "min       0.000000     0.000000      0.000000      0.000000  1800.000000   \n",
       "25%       1.000000     1.000000    141.750000     90.000000  1930.000000   \n",
       "50%       1.000000     1.000000    350.000000    124.000000  1965.000000   \n",
       "75%       2.000000     2.000000    624.000000    175.000000  1998.000000   \n",
       "max       8.000000    26.000000  75100.000000   6791.000000  2018.000000   \n",
       "\n",
       "       Rooms_per_YearBuilt  Distnce_per_household     RoomsSum  \n",
       "count          5678.000000            4931.000000  8982.000000  \n",
       "mean              0.001474              21.142995     8.766867  \n",
       "std               0.000515              18.856597     2.964208  \n",
       "min               0.000496               0.000000     2.000000  \n",
       "25%               0.001020              10.411665     6.000000  \n",
       "50%               0.001521              15.978261     9.000000  \n",
       "75%               0.001983              25.423729    10.000000  \n",
       "max               0.005076             575.508475    32.000000  "
      ]
     },
     "execution_count": 32,
     "metadata": {},
     "output_type": "execute_result"
    }
   ],
   "source": [
    "train_set_num.describe()"
   ]
  },
  {
   "cell_type": "code",
   "execution_count": 33,
   "metadata": {},
   "outputs": [
    {
     "data": {
      "text/html": [
       "<div>\n",
       "<style scoped>\n",
       "    .dataframe tbody tr th:only-of-type {\n",
       "        vertical-align: middle;\n",
       "    }\n",
       "\n",
       "    .dataframe tbody tr th {\n",
       "        vertical-align: top;\n",
       "    }\n",
       "\n",
       "    .dataframe thead th {\n",
       "        text-align: right;\n",
       "    }\n",
       "</style>\n",
       "<table border=\"1\" class=\"dataframe\">\n",
       "  <thead>\n",
       "    <tr style=\"text-align: right;\">\n",
       "      <th></th>\n",
       "      <th>Rooms</th>\n",
       "      <th>Price</th>\n",
       "      <th>Distance</th>\n",
       "      <th>Postcode</th>\n",
       "      <th>Bedroom2</th>\n",
       "      <th>Bathroom</th>\n",
       "      <th>Car</th>\n",
       "      <th>Landsize</th>\n",
       "      <th>BuildingArea</th>\n",
       "      <th>YearBuilt</th>\n",
       "      <th>Rooms_per_YearBuilt</th>\n",
       "      <th>Distnce_per_household</th>\n",
       "      <th>RoomsSum</th>\n",
       "    </tr>\n",
       "  </thead>\n",
       "  <tbody>\n",
       "    <tr>\n",
       "      <th>0</th>\n",
       "      <td>2.0</td>\n",
       "      <td>1300000.0</td>\n",
       "      <td>9.3</td>\n",
       "      <td>3145.0</td>\n",
       "      <td>3.0</td>\n",
       "      <td>1.0</td>\n",
       "      <td>1.0</td>\n",
       "      <td>350.0</td>\n",
       "      <td>124.0</td>\n",
       "      <td>1965.0</td>\n",
       "      <td>0.001521</td>\n",
       "      <td>15.978261</td>\n",
       "      <td>9.0</td>\n",
       "    </tr>\n",
       "    <tr>\n",
       "      <th>1</th>\n",
       "      <td>2.0</td>\n",
       "      <td>899000.0</td>\n",
       "      <td>11.2</td>\n",
       "      <td>3127.0</td>\n",
       "      <td>2.0</td>\n",
       "      <td>1.0</td>\n",
       "      <td>1.0</td>\n",
       "      <td>464.0</td>\n",
       "      <td>117.0</td>\n",
       "      <td>1995.0</td>\n",
       "      <td>0.001003</td>\n",
       "      <td>10.446429</td>\n",
       "      <td>6.0</td>\n",
       "    </tr>\n",
       "    <tr>\n",
       "      <th>2</th>\n",
       "      <td>3.0</td>\n",
       "      <td>670000.0</td>\n",
       "      <td>11.1</td>\n",
       "      <td>3025.0</td>\n",
       "      <td>3.0</td>\n",
       "      <td>1.0</td>\n",
       "      <td>1.0</td>\n",
       "      <td>350.0</td>\n",
       "      <td>124.0</td>\n",
       "      <td>1965.0</td>\n",
       "      <td>0.001521</td>\n",
       "      <td>15.978261</td>\n",
       "      <td>9.0</td>\n",
       "    </tr>\n",
       "    <tr>\n",
       "      <th>3</th>\n",
       "      <td>3.0</td>\n",
       "      <td>899000.0</td>\n",
       "      <td>8.0</td>\n",
       "      <td>3040.0</td>\n",
       "      <td>3.0</td>\n",
       "      <td>1.0</td>\n",
       "      <td>1.0</td>\n",
       "      <td>350.0</td>\n",
       "      <td>124.0</td>\n",
       "      <td>1965.0</td>\n",
       "      <td>0.001521</td>\n",
       "      <td>15.978261</td>\n",
       "      <td>9.0</td>\n",
       "    </tr>\n",
       "    <tr>\n",
       "      <th>4</th>\n",
       "      <td>3.0</td>\n",
       "      <td>765000.0</td>\n",
       "      <td>7.8</td>\n",
       "      <td>3058.0</td>\n",
       "      <td>3.0</td>\n",
       "      <td>1.0</td>\n",
       "      <td>1.0</td>\n",
       "      <td>350.0</td>\n",
       "      <td>124.0</td>\n",
       "      <td>1965.0</td>\n",
       "      <td>0.001521</td>\n",
       "      <td>15.978261</td>\n",
       "      <td>9.0</td>\n",
       "    </tr>\n",
       "  </tbody>\n",
       "</table>\n",
       "</div>"
      ],
      "text/plain": [
       "   Rooms      Price  Distance  Postcode  Bedroom2  Bathroom  Car  Landsize  \\\n",
       "0    2.0  1300000.0       9.3    3145.0       3.0       1.0  1.0     350.0   \n",
       "1    2.0   899000.0      11.2    3127.0       2.0       1.0  1.0     464.0   \n",
       "2    3.0   670000.0      11.1    3025.0       3.0       1.0  1.0     350.0   \n",
       "3    3.0   899000.0       8.0    3040.0       3.0       1.0  1.0     350.0   \n",
       "4    3.0   765000.0       7.8    3058.0       3.0       1.0  1.0     350.0   \n",
       "\n",
       "   BuildingArea  YearBuilt  Rooms_per_YearBuilt  Distnce_per_household  \\\n",
       "0         124.0     1965.0             0.001521              15.978261   \n",
       "1         117.0     1995.0             0.001003              10.446429   \n",
       "2         124.0     1965.0             0.001521              15.978261   \n",
       "3         124.0     1965.0             0.001521              15.978261   \n",
       "4         124.0     1965.0             0.001521              15.978261   \n",
       "\n",
       "   RoomsSum  \n",
       "0       9.0  \n",
       "1       6.0  \n",
       "2       9.0  \n",
       "3       9.0  \n",
       "4       9.0  "
      ]
     },
     "execution_count": 33,
     "metadata": {},
     "output_type": "execute_result"
    }
   ],
   "source": [
    "#housing_transformed_trained['Suburb'] = train_set['Suburb'].copy()\n",
    "#housing_transformed_trained['Method'] = train_set['Method'].copy()\n",
    "#housing_transformed_trained['Type'] = train_set['Type'].copy()\n",
    "#housing_transformed_trained['CouncilArea'] = train_set['CouncilArea'].copy() //many nulls\n",
    "\n",
    "housing_transformed_trained.head()"
   ]
  },
  {
   "cell_type": "code",
   "execution_count": 34,
   "metadata": {},
   "outputs": [
    {
     "data": {
      "text/plain": [
       "['Rooms',\n",
       " 'Price',\n",
       " 'Distance',\n",
       " 'Postcode',\n",
       " 'Bedroom2',\n",
       " 'Bathroom',\n",
       " 'Car',\n",
       " 'Landsize',\n",
       " 'BuildingArea',\n",
       " 'YearBuilt',\n",
       " 'Rooms_per_YearBuilt',\n",
       " 'Distnce_per_household',\n",
       " 'RoomsSum']"
      ]
     },
     "execution_count": 34,
     "metadata": {},
     "output_type": "execute_result"
    }
   ],
   "source": [
    "list(train_set_num)"
   ]
  },
  {
   "cell_type": "code",
   "execution_count": 35,
   "metadata": {},
   "outputs": [],
   "source": [
    "#housing['Suburb']"
   ]
  },
  {
   "cell_type": "code",
   "execution_count": 36,
   "metadata": {},
   "outputs": [
    {
     "name": "stdout",
     "output_type": "stream",
     "text": [
      "[[-0.90805866  0.44094444  0.18649791 ...  0.06372648 -0.17662069\n",
      "   0.06984079]\n",
      " [-0.90805866 -0.23590777  0.71963836 ... -1.35801761 -0.6130917\n",
      "  -1.0685241 ]\n",
      " [ 0.11440604 -0.62243934  0.69157834 ...  0.06372648 -0.17662069\n",
      "   0.06984079]\n",
      " ...\n",
      " [ 0.11440604 -0.56040862  0.5232182  ... -0.01816258 -0.49802671\n",
      "   0.44929576]\n",
      " [ 2.15933545  2.04445965  0.29873801 ...  2.72839367  1.45844122\n",
      "   2.34657058]\n",
      " [-0.90805866 -0.23590777 -1.77770375 ... -1.22054753  3.22815945\n",
      "  -1.0685241 ]]\n"
     ]
    }
   ],
   "source": [
    "from sklearn.pipeline import Pipeline\n",
    "from sklearn.preprocessing import StandardScaler\n",
    "from future_encoders import ColumnTransformer,make_column_transformer\n",
    "from future_encoders import OneHotEncoder\n",
    "\n",
    "\n",
    "from sklearn.base import BaseEstimator, TransformerMixin\n",
    "\n",
    "class DataFrameSelector(BaseEstimator, TransformerMixin):\n",
    "    def __init__(self, attribute_names):\n",
    "        self.attribute_names = attribute_names\n",
    "    def fit(self, X, y=None):\n",
    "        return self\n",
    "    def transform(self, X):\n",
    "        return X[self.attribute_names].values\n",
    "    \n",
    "num_attribs = list(train_set_num)\n",
    "#num_attribs.remove('Price')\n",
    "cat_attribs = [\"Type\"] #\"Method\", \"Type\"\n",
    "\n",
    "num_pipeline = Pipeline([\n",
    "      #  ('imputer', Imputer(strategy=\"median\")),\n",
    "        ('std_scaler', StandardScaler()),\n",
    "    ])\n",
    "#med_train_set = num_pipeline.fit_transform(housing_transformed_trained)\n",
    "#print(med_train_set)\n",
    "\n",
    "full_pipeline = ColumnTransformer([\n",
    "       ('num', num_pipeline, num_attribs),\n",
    "#        ('cat', OneHotEncoder(), cat_attribs),\n",
    "    ])\n",
    "\n",
    "\n",
    "housing_train_set_prepared = full_pipeline.fit_transform(housing_transformed_trained)\n",
    "\n",
    "print(housing_train_set_prepared)"
   ]
  },
  {
   "cell_type": "code",
   "execution_count": 37,
   "metadata": {},
   "outputs": [
    {
     "data": {
      "text/html": [
       "<div>\n",
       "<style scoped>\n",
       "    .dataframe tbody tr th:only-of-type {\n",
       "        vertical-align: middle;\n",
       "    }\n",
       "\n",
       "    .dataframe tbody tr th {\n",
       "        vertical-align: top;\n",
       "    }\n",
       "\n",
       "    .dataframe thead th {\n",
       "        text-align: right;\n",
       "    }\n",
       "</style>\n",
       "<table border=\"1\" class=\"dataframe\">\n",
       "  <thead>\n",
       "    <tr style=\"text-align: right;\">\n",
       "      <th></th>\n",
       "      <th>Rooms</th>\n",
       "      <th>Price</th>\n",
       "      <th>Distance</th>\n",
       "      <th>Postcode</th>\n",
       "      <th>Bedroom2</th>\n",
       "      <th>Bathroom</th>\n",
       "      <th>Car</th>\n",
       "      <th>Landsize</th>\n",
       "      <th>BuildingArea</th>\n",
       "      <th>YearBuilt</th>\n",
       "      <th>...</th>\n",
       "      <th>VB</th>\n",
       "      <th>PI</th>\n",
       "      <th>SN</th>\n",
       "      <th>PN</th>\n",
       "      <th>W</th>\n",
       "      <th>SS</th>\n",
       "      <th>SA</th>\n",
       "      <th>h</th>\n",
       "      <th>t</th>\n",
       "      <th>u</th>\n",
       "    </tr>\n",
       "  </thead>\n",
       "  <tbody>\n",
       "    <tr>\n",
       "      <th>0</th>\n",
       "      <td>2.0</td>\n",
       "      <td>1300000.0</td>\n",
       "      <td>9.3</td>\n",
       "      <td>3145.0</td>\n",
       "      <td>3.0</td>\n",
       "      <td>1.0</td>\n",
       "      <td>1.0</td>\n",
       "      <td>350.0</td>\n",
       "      <td>124.0</td>\n",
       "      <td>1965.0</td>\n",
       "      <td>...</td>\n",
       "      <td>0.0</td>\n",
       "      <td>0.0</td>\n",
       "      <td>0.0</td>\n",
       "      <td>0.0</td>\n",
       "      <td>0.0</td>\n",
       "      <td>0.0</td>\n",
       "      <td>0.0</td>\n",
       "      <td>1.0</td>\n",
       "      <td>0.0</td>\n",
       "      <td>0.0</td>\n",
       "    </tr>\n",
       "    <tr>\n",
       "      <th>1</th>\n",
       "      <td>2.0</td>\n",
       "      <td>899000.0</td>\n",
       "      <td>11.2</td>\n",
       "      <td>3127.0</td>\n",
       "      <td>2.0</td>\n",
       "      <td>1.0</td>\n",
       "      <td>1.0</td>\n",
       "      <td>464.0</td>\n",
       "      <td>117.0</td>\n",
       "      <td>1995.0</td>\n",
       "      <td>...</td>\n",
       "      <td>0.0</td>\n",
       "      <td>0.0</td>\n",
       "      <td>0.0</td>\n",
       "      <td>0.0</td>\n",
       "      <td>0.0</td>\n",
       "      <td>0.0</td>\n",
       "      <td>0.0</td>\n",
       "      <td>1.0</td>\n",
       "      <td>0.0</td>\n",
       "      <td>0.0</td>\n",
       "    </tr>\n",
       "    <tr>\n",
       "      <th>2</th>\n",
       "      <td>3.0</td>\n",
       "      <td>670000.0</td>\n",
       "      <td>11.1</td>\n",
       "      <td>3025.0</td>\n",
       "      <td>3.0</td>\n",
       "      <td>1.0</td>\n",
       "      <td>1.0</td>\n",
       "      <td>350.0</td>\n",
       "      <td>124.0</td>\n",
       "      <td>1965.0</td>\n",
       "      <td>...</td>\n",
       "      <td>1.0</td>\n",
       "      <td>0.0</td>\n",
       "      <td>0.0</td>\n",
       "      <td>0.0</td>\n",
       "      <td>0.0</td>\n",
       "      <td>0.0</td>\n",
       "      <td>0.0</td>\n",
       "      <td>0.0</td>\n",
       "      <td>1.0</td>\n",
       "      <td>0.0</td>\n",
       "    </tr>\n",
       "    <tr>\n",
       "      <th>3</th>\n",
       "      <td>3.0</td>\n",
       "      <td>899000.0</td>\n",
       "      <td>8.0</td>\n",
       "      <td>3040.0</td>\n",
       "      <td>3.0</td>\n",
       "      <td>1.0</td>\n",
       "      <td>1.0</td>\n",
       "      <td>350.0</td>\n",
       "      <td>124.0</td>\n",
       "      <td>1965.0</td>\n",
       "      <td>...</td>\n",
       "      <td>0.0</td>\n",
       "      <td>1.0</td>\n",
       "      <td>0.0</td>\n",
       "      <td>0.0</td>\n",
       "      <td>0.0</td>\n",
       "      <td>0.0</td>\n",
       "      <td>0.0</td>\n",
       "      <td>1.0</td>\n",
       "      <td>0.0</td>\n",
       "      <td>0.0</td>\n",
       "    </tr>\n",
       "    <tr>\n",
       "      <th>4</th>\n",
       "      <td>3.0</td>\n",
       "      <td>765000.0</td>\n",
       "      <td>7.8</td>\n",
       "      <td>3058.0</td>\n",
       "      <td>3.0</td>\n",
       "      <td>1.0</td>\n",
       "      <td>1.0</td>\n",
       "      <td>350.0</td>\n",
       "      <td>124.0</td>\n",
       "      <td>1965.0</td>\n",
       "      <td>...</td>\n",
       "      <td>0.0</td>\n",
       "      <td>0.0</td>\n",
       "      <td>0.0</td>\n",
       "      <td>0.0</td>\n",
       "      <td>0.0</td>\n",
       "      <td>0.0</td>\n",
       "      <td>0.0</td>\n",
       "      <td>1.0</td>\n",
       "      <td>0.0</td>\n",
       "      <td>0.0</td>\n",
       "    </tr>\n",
       "  </tbody>\n",
       "</table>\n",
       "<p>5 rows × 25 columns</p>\n",
       "</div>"
      ],
      "text/plain": [
       "   Rooms      Price  Distance  Postcode  Bedroom2  Bathroom  Car  Landsize  \\\n",
       "0    2.0  1300000.0       9.3    3145.0       3.0       1.0  1.0     350.0   \n",
       "1    2.0   899000.0      11.2    3127.0       2.0       1.0  1.0     464.0   \n",
       "2    3.0   670000.0      11.1    3025.0       3.0       1.0  1.0     350.0   \n",
       "3    3.0   899000.0       8.0    3040.0       3.0       1.0  1.0     350.0   \n",
       "4    3.0   765000.0       7.8    3058.0       3.0       1.0  1.0     350.0   \n",
       "\n",
       "   BuildingArea  YearBuilt ...    VB   PI   SN   PN    W   SS   SA    h    t  \\\n",
       "0         124.0     1965.0 ...   0.0  0.0  0.0  0.0  0.0  0.0  0.0  1.0  0.0   \n",
       "1         117.0     1995.0 ...   0.0  0.0  0.0  0.0  0.0  0.0  0.0  1.0  0.0   \n",
       "2         124.0     1965.0 ...   1.0  0.0  0.0  0.0  0.0  0.0  0.0  0.0  1.0   \n",
       "3         124.0     1965.0 ...   0.0  1.0  0.0  0.0  0.0  0.0  0.0  1.0  0.0   \n",
       "4         124.0     1965.0 ...   0.0  0.0  0.0  0.0  0.0  0.0  0.0  1.0  0.0   \n",
       "\n",
       "     u  \n",
       "0  0.0  \n",
       "1  0.0  \n",
       "2  0.0  \n",
       "3  0.0  \n",
       "4  0.0  \n",
       "\n",
       "[5 rows x 25 columns]"
      ]
     },
     "execution_count": 37,
     "metadata": {},
     "output_type": "execute_result"
    }
   ],
   "source": [
    "from future_encoders import OneHotEncoder\n",
    "encoder = OneHotEncoder()\n",
    "suburb_cat_encoded,suburb_categories = train_set[\"Suburb\"].factorize()\n",
    "suburb_cat_1hot = encoder.fit_transform(suburb_cat_encoded.reshape(-1,1))\n",
    "\n",
    "type_cat_encoded,type_categories = train_set[\"Type\"].factorize()\n",
    "type_cat_1hot = encoder.fit_transform(type_cat_encoded.reshape(-1,1))\n",
    "\n",
    "method_cat_encoded,method_categories = train_set[\"Method\"].factorize()\n",
    "method_cat_1hot = encoder.fit_transform(method_cat_encoded.reshape(-1,1))\n",
    "\n",
    "\n",
    "suburb_cat_1hot\n",
    "suburb_cat_encoded.sort()\n",
    "#print(suburb_categories)\n",
    "suburb_cat_encoded\n",
    "suburb_cat_1hot.toarray()\n",
    "\n",
    "a = np.concatenate([X, method_cat_1hot.toarray(), type_cat_1hot.toarray()], axis=1)\n",
    "col = num_attribs + method_categories.tolist() + type_categories.tolist()\n",
    "\n",
    "housing_train_encoded = pd.DataFrame(data=a[0:,0:], columns=col[0:])\n",
    "\n",
    "housing_train_encoded.head()\n",
    "#type_cat_encoded\n",
    "#col"
   ]
  },
  {
   "cell_type": "code",
   "execution_count": 38,
   "metadata": {},
   "outputs": [
    {
     "data": {
      "text/plain": [
       "Price                    1.000000\n",
       "Rooms                    0.464249\n",
       "RoomsSum                 0.427391\n",
       "Bedroom2                 0.391628\n",
       "Rooms_per_YearBuilt      0.369623\n",
       "Bathroom                 0.358532\n",
       "Distnce_per_household    0.253076\n",
       "BuildingArea             0.235134\n",
       "Postcode                 0.230832\n",
       "Car                      0.211242\n",
       "Landsize                 0.054528\n",
       "Distance                -0.056573\n",
       "YearBuilt               -0.190932\n",
       "Name: Price, dtype: float64"
      ]
     },
     "execution_count": 38,
     "metadata": {},
     "output_type": "execute_result"
    }
   ],
   "source": [
    "housing_transformed_trained.corr().Price.sort_values(ascending=False)"
   ]
  },
  {
   "cell_type": "code",
   "execution_count": 39,
   "metadata": {},
   "outputs": [
    {
     "data": {
      "text/html": [
       "<div>\n",
       "<style scoped>\n",
       "    .dataframe tbody tr th:only-of-type {\n",
       "        vertical-align: middle;\n",
       "    }\n",
       "\n",
       "    .dataframe tbody tr th {\n",
       "        vertical-align: top;\n",
       "    }\n",
       "\n",
       "    .dataframe thead th {\n",
       "        text-align: right;\n",
       "    }\n",
       "</style>\n",
       "<table border=\"1\" class=\"dataframe\">\n",
       "  <thead>\n",
       "    <tr style=\"text-align: right;\">\n",
       "      <th></th>\n",
       "      <th>Rooms</th>\n",
       "      <th>Price</th>\n",
       "      <th>Distance</th>\n",
       "      <th>Postcode</th>\n",
       "      <th>Bedroom2</th>\n",
       "      <th>Bathroom</th>\n",
       "      <th>Car</th>\n",
       "      <th>Landsize</th>\n",
       "      <th>BuildingArea</th>\n",
       "      <th>YearBuilt</th>\n",
       "      <th>Rooms_per_YearBuilt</th>\n",
       "      <th>Distnce_per_household</th>\n",
       "      <th>RoomsSum</th>\n",
       "    </tr>\n",
       "  </thead>\n",
       "  <tbody>\n",
       "    <tr>\n",
       "      <th>count</th>\n",
       "      <td>11377.000000</td>\n",
       "      <td>1.137700e+04</td>\n",
       "      <td>11377.000000</td>\n",
       "      <td>11377.000000</td>\n",
       "      <td>11377.000000</td>\n",
       "      <td>11377.000000</td>\n",
       "      <td>11377.000000</td>\n",
       "      <td>11377.000000</td>\n",
       "      <td>11377.000000</td>\n",
       "      <td>11377.000000</td>\n",
       "      <td>11377.000000</td>\n",
       "      <td>11377.000000</td>\n",
       "      <td>11377.000000</td>\n",
       "    </tr>\n",
       "    <tr>\n",
       "      <th>mean</th>\n",
       "      <td>2.888108</td>\n",
       "      <td>1.038763e+06</td>\n",
       "      <td>8.635361</td>\n",
       "      <td>3098.150303</td>\n",
       "      <td>2.866749</td>\n",
       "      <td>1.417773</td>\n",
       "      <td>1.424717</td>\n",
       "      <td>447.892766</td>\n",
       "      <td>133.191315</td>\n",
       "      <td>1962.786939</td>\n",
       "      <td>0.001498</td>\n",
       "      <td>18.216751</td>\n",
       "      <td>8.815944</td>\n",
       "    </tr>\n",
       "    <tr>\n",
       "      <th>std</th>\n",
       "      <td>0.978072</td>\n",
       "      <td>5.924744e+05</td>\n",
       "      <td>3.563945</td>\n",
       "      <td>59.668930</td>\n",
       "      <td>0.878921</td>\n",
       "      <td>0.669254</td>\n",
       "      <td>0.895261</td>\n",
       "      <td>1134.476255</td>\n",
       "      <td>85.161450</td>\n",
       "      <td>27.003535</td>\n",
       "      <td>0.000365</td>\n",
       "      <td>12.674554</td>\n",
       "      <td>2.635475</td>\n",
       "    </tr>\n",
       "    <tr>\n",
       "      <th>min</th>\n",
       "      <td>1.000000</td>\n",
       "      <td>8.500000e+04</td>\n",
       "      <td>1.200000</td>\n",
       "      <td>3000.000000</td>\n",
       "      <td>0.000000</td>\n",
       "      <td>0.000000</td>\n",
       "      <td>0.000000</td>\n",
       "      <td>0.000000</td>\n",
       "      <td>0.000000</td>\n",
       "      <td>1800.000000</td>\n",
       "      <td>0.000496</td>\n",
       "      <td>0.000000</td>\n",
       "      <td>2.000000</td>\n",
       "    </tr>\n",
       "    <tr>\n",
       "      <th>25%</th>\n",
       "      <td>2.000000</td>\n",
       "      <td>7.100000e+05</td>\n",
       "      <td>5.900000</td>\n",
       "      <td>3046.000000</td>\n",
       "      <td>2.000000</td>\n",
       "      <td>1.000000</td>\n",
       "      <td>1.000000</td>\n",
       "      <td>192.000000</td>\n",
       "      <td>124.000000</td>\n",
       "      <td>1965.000000</td>\n",
       "      <td>0.001521</td>\n",
       "      <td>15.978261</td>\n",
       "      <td>7.000000</td>\n",
       "    </tr>\n",
       "    <tr>\n",
       "      <th>50%</th>\n",
       "      <td>3.000000</td>\n",
       "      <td>8.990000e+05</td>\n",
       "      <td>8.800000</td>\n",
       "      <td>3084.000000</td>\n",
       "      <td>3.000000</td>\n",
       "      <td>1.000000</td>\n",
       "      <td>1.000000</td>\n",
       "      <td>350.000000</td>\n",
       "      <td>124.000000</td>\n",
       "      <td>1965.000000</td>\n",
       "      <td>0.001521</td>\n",
       "      <td>15.978261</td>\n",
       "      <td>9.000000</td>\n",
       "    </tr>\n",
       "    <tr>\n",
       "      <th>75%</th>\n",
       "      <td>3.000000</td>\n",
       "      <td>1.200000e+06</td>\n",
       "      <td>11.200000</td>\n",
       "      <td>3146.000000</td>\n",
       "      <td>3.000000</td>\n",
       "      <td>2.000000</td>\n",
       "      <td>2.000000</td>\n",
       "      <td>581.000000</td>\n",
       "      <td>124.000000</td>\n",
       "      <td>1965.000000</td>\n",
       "      <td>0.001521</td>\n",
       "      <td>15.978261</td>\n",
       "      <td>10.000000</td>\n",
       "    </tr>\n",
       "    <tr>\n",
       "      <th>max</th>\n",
       "      <td>12.000000</td>\n",
       "      <td>8.000000e+06</td>\n",
       "      <td>15.000000</td>\n",
       "      <td>3207.000000</td>\n",
       "      <td>20.000000</td>\n",
       "      <td>8.000000</td>\n",
       "      <td>26.000000</td>\n",
       "      <td>75100.000000</td>\n",
       "      <td>6791.000000</td>\n",
       "      <td>2018.000000</td>\n",
       "      <td>0.005076</td>\n",
       "      <td>575.508475</td>\n",
       "      <td>32.000000</td>\n",
       "    </tr>\n",
       "  </tbody>\n",
       "</table>\n",
       "</div>"
      ],
      "text/plain": [
       "              Rooms         Price      Distance      Postcode      Bedroom2  \\\n",
       "count  11377.000000  1.137700e+04  11377.000000  11377.000000  11377.000000   \n",
       "mean       2.888108  1.038763e+06      8.635361   3098.150303      2.866749   \n",
       "std        0.978072  5.924744e+05      3.563945     59.668930      0.878921   \n",
       "min        1.000000  8.500000e+04      1.200000   3000.000000      0.000000   \n",
       "25%        2.000000  7.100000e+05      5.900000   3046.000000      2.000000   \n",
       "50%        3.000000  8.990000e+05      8.800000   3084.000000      3.000000   \n",
       "75%        3.000000  1.200000e+06     11.200000   3146.000000      3.000000   \n",
       "max       12.000000  8.000000e+06     15.000000   3207.000000     20.000000   \n",
       "\n",
       "           Bathroom           Car      Landsize  BuildingArea     YearBuilt  \\\n",
       "count  11377.000000  11377.000000  11377.000000  11377.000000  11377.000000   \n",
       "mean       1.417773      1.424717    447.892766    133.191315   1962.786939   \n",
       "std        0.669254      0.895261   1134.476255     85.161450     27.003535   \n",
       "min        0.000000      0.000000      0.000000      0.000000   1800.000000   \n",
       "25%        1.000000      1.000000    192.000000    124.000000   1965.000000   \n",
       "50%        1.000000      1.000000    350.000000    124.000000   1965.000000   \n",
       "75%        2.000000      2.000000    581.000000    124.000000   1965.000000   \n",
       "max        8.000000     26.000000  75100.000000   6791.000000   2018.000000   \n",
       "\n",
       "       Rooms_per_YearBuilt  Distnce_per_household      RoomsSum  \n",
       "count         11377.000000           11377.000000  11377.000000  \n",
       "mean              0.001498              18.216751      8.815944  \n",
       "std               0.000365              12.674554      2.635475  \n",
       "min               0.000496               0.000000      2.000000  \n",
       "25%               0.001521              15.978261      7.000000  \n",
       "50%               0.001521              15.978261      9.000000  \n",
       "75%               0.001521              15.978261     10.000000  \n",
       "max               0.005076             575.508475     32.000000  "
      ]
     },
     "execution_count": 39,
     "metadata": {},
     "output_type": "execute_result"
    }
   ],
   "source": [
    "housing_transformed_trained.describe()"
   ]
  },
  {
   "cell_type": "code",
   "execution_count": 40,
   "metadata": {},
   "outputs": [
    {
     "data": {
      "text/plain": [
       "LinearRegression(copy_X=True, fit_intercept=True, n_jobs=1, normalize=False)"
      ]
     },
     "execution_count": 40,
     "metadata": {},
     "output_type": "execute_result"
    }
   ],
   "source": [
    "from sklearn.linear_model import LinearRegression\n",
    "\n",
    "housing_train_X = housing_transformed_trained.drop(\"Price\", axis=1)\n",
    "housing_train_Y = housing_transformed_trained[\"Price\"].copy()\n",
    "\n",
    "\n",
    "lin_reg = LinearRegression()\n",
    "lin_reg.fit(housing_train_X, housing_train_Y) #THIS GIVES THE EQUATION"
   ]
  },
  {
   "cell_type": "code",
   "execution_count": 41,
   "metadata": {},
   "outputs": [
    {
     "name": "stdout",
     "output_type": "stream",
     "text": [
      "Predictions: [ 841117.23483505  647529.17786605  774537.04727212 ...  906971.57502187\n",
      " 1676170.01224843 1096917.52447159]\n"
     ]
    }
   ],
   "source": [
    "\n",
    "#print(\"Labels:\", list(housing_test_Y))\n",
    "\n",
    "#Computing prediction on training\n",
    "print(\"Predictions:\", lin_reg.predict(housing_train_X))\n",
    "\n",
    "\n",
    "\n",
    "\n",
    "\n",
    "\n"
   ]
  },
  {
   "cell_type": "code",
   "execution_count": 42,
   "metadata": {},
   "outputs": [
    {
     "data": {
      "text/plain": [
       "479433.85317980824"
      ]
     },
     "execution_count": 42,
     "metadata": {},
     "output_type": "execute_result"
    }
   ],
   "source": [
    "# Now we shall compare the train predicted Y with the train actual Y(which is is just one price column)\n",
    "\n",
    "import numpy as np\n",
    "from sklearn.metrics import mean_squared_error\n",
    "Train_Y_predicted=lin_reg.predict(housing_train_X)\n",
    "\n",
    "lin_mse = mean_squared_error(housing_train_Y, Train_Y_predicted)\n",
    "lin_rmse = np.sqrt(lin_mse)\n",
    "lin_rmse"
   ]
  },
  {
   "cell_type": "code",
   "execution_count": 47,
   "metadata": {},
   "outputs": [
    {
     "name": "stdout",
     "output_type": "stream",
     "text": [
      "Scores: [478631.45689385 472715.31422318 477731.71329699 452071.61345018\n",
      " 494610.41422026 506549.54403679 512063.78140947 459053.84662873\n",
      " 553217.98489754 482212.76218705]\n",
      "Mean: 488885.8431244058\n",
      "Standard deviation: 27931.052463445038\n"
     ]
    }
   ],
   "source": [
    "lin_scores = cross_val_score(lin_reg, housing_train_X, housing_train_Y,\n",
    "                             scoring=\"neg_mean_squared_error\", cv=10)\n",
    "\n",
    "lin_rmse_scores = np.sqrt(-lin_scores)\n",
    "display_scores(lin_rmse_scores)"
   ]
  },
  {
   "cell_type": "code",
   "execution_count": 43,
   "metadata": {},
   "outputs": [
    {
     "data": {
      "text/plain": [
       "DecisionTreeRegressor(criterion='mse', max_depth=None, max_features=None,\n",
       "           max_leaf_nodes=None, min_impurity_decrease=0.0,\n",
       "           min_impurity_split=None, min_samples_leaf=1,\n",
       "           min_samples_split=2, min_weight_fraction_leaf=0.0,\n",
       "           presort=False, random_state=None, splitter='best')"
      ]
     },
     "execution_count": 43,
     "metadata": {},
     "output_type": "execute_result"
    }
   ],
   "source": [
    "from sklearn.tree import DecisionTreeRegressor\n",
    "\n",
    "tree_reg = DecisionTreeRegressor()\n",
    "tree_reg.fit(housing_train_X, housing_train_Y)\n"
   ]
  },
  {
   "cell_type": "code",
   "execution_count": 44,
   "metadata": {},
   "outputs": [
    {
     "data": {
      "text/plain": [
       "194788.84988735922"
      ]
     },
     "execution_count": 44,
     "metadata": {},
     "output_type": "execute_result"
    }
   ],
   "source": [
    "# Predicting value of Y\n",
    "\n",
    "Train_Y_predicted_TREE=tree_reg.predict(housing_train_X)\n",
    "\n",
    "tree_mse = mean_squared_error(housing_train_Y, Train_Y_predicted_TREE)\n",
    "tree_rmse = np.sqrt(tree_mse)\n",
    "tree_rmse"
   ]
  },
  {
   "cell_type": "code",
   "execution_count": 45,
   "metadata": {},
   "outputs": [],
   "source": [
    "from sklearn.model_selection import cross_val_score\n",
    "scores = cross_val_score(tree_reg, housing_train_X, housing_train_Y,\n",
    "                         scoring=\"neg_mean_squared_error\", cv=10)\n",
    "tree_rmse_scores = np.sqrt(-scores)"
   ]
  },
  {
   "cell_type": "code",
   "execution_count": 46,
   "metadata": {},
   "outputs": [
    {
     "name": "stdout",
     "output_type": "stream",
     "text": [
      "Scores: [586694.22451059 577066.55554332 569246.11906826 558078.62023799\n",
      " 604369.53080427 631997.83152927 564676.69957905 580663.33595373\n",
      " 540553.80641141 566083.18160305]\n",
      "Mean: 577942.9905240944\n",
      "Standard deviation: 24269.05394276861\n"
     ]
    }
   ],
   "source": [
    "def display_scores(scores):\n",
    "    print(\"Scores:\", scores)\n",
    "    print(\"Mean:\", scores.mean())\n",
    "    print(\"Standard deviation:\", scores.std())\n",
    "\n",
    "display_scores(tree_rmse_scores)"
   ]
  },
  {
   "cell_type": "code",
   "execution_count": 48,
   "metadata": {},
   "outputs": [
    {
     "name": "stderr",
     "output_type": "stream",
     "text": [
      "c:\\users\\arjun\\appdata\\local\\programs\\python\\python37\\lib\\site-packages\\sklearn\\ensemble\\weight_boosting.py:29: DeprecationWarning: numpy.core.umath_tests is an internal NumPy module and should not be imported. It will be removed in a future NumPy release.\n",
      "  from numpy.core.umath_tests import inner1d\n"
     ]
    },
    {
     "data": {
      "text/plain": [
       "RandomForestRegressor(bootstrap=True, criterion='mse', max_depth=None,\n",
       "           max_features='auto', max_leaf_nodes=None,\n",
       "           min_impurity_decrease=0.0, min_impurity_split=None,\n",
       "           min_samples_leaf=1, min_samples_split=2,\n",
       "           min_weight_fraction_leaf=0.0, n_estimators=10, n_jobs=1,\n",
       "           oob_score=False, random_state=42, verbose=0, warm_start=False)"
      ]
     },
     "execution_count": 48,
     "metadata": {},
     "output_type": "execute_result"
    }
   ],
   "source": [
    "from sklearn.ensemble import RandomForestRegressor\n",
    "\n",
    "forest_reg = RandomForestRegressor(random_state=42)\n",
    "\n",
    "forest_reg.fit(housing_train_X, housing_train_Y)"
   ]
  },
  {
   "cell_type": "code",
   "execution_count": 49,
   "metadata": {},
   "outputs": [
    {
     "name": "stdout",
     "output_type": "stream",
     "text": [
      "Scores: [463896.30144349 473531.91166436 452498.09601034 452552.96166912\n",
      " 521262.53578787 498330.40346773 458154.27869052 457482.23001453\n",
      " 455567.43098383 460499.87560456]\n",
      "Mean: 469377.60253363487\n",
      "Standard deviation: 21639.31137196551\n"
     ]
    }
   ],
   "source": [
    "forest_scores = cross_val_score(forest_reg, housing_train_X, housing_train_Y,\n",
    "                             scoring=\"neg_mean_squared_error\", cv=10)\n",
    "\n",
    "forest_rmse_scores = np.sqrt(-forest_scores)\n",
    "display_scores(forest_rmse_scores)"
   ]
  },
  {
   "cell_type": "code",
   "execution_count": 50,
   "metadata": {},
   "outputs": [],
   "source": [
    "#Imputing the test data\n",
    "\n",
    "\n",
    "test_set_impu = test_set.drop(\"Suburb\", axis=1)\n",
    "test_set_impu = test_set_impu.drop(\"Address\", axis=1)\n",
    "test_set_impu = test_set_impu.drop(\"Method\", axis=1)\n",
    "test_set_impu = test_set_impu.drop(\"SellerG\", axis=1)\n",
    "test_set_impu = test_set_impu.drop(\"CouncilArea\", axis=1)\n",
    "test_set_impu = test_set_impu.drop(\"Type\", axis=1)\n",
    "test_set_impu = test_set_impu.drop(\"Date\", axis=1)\n",
    "test_set_impu = test_set_impu.drop(\"Lattitude\", axis=1)\n",
    "test_set_impu = test_set_impu.drop(\"Longtitude\", axis=1)\n",
    "#test_set_impu = test_set_impu.drop(\"YearBuilt\", axis=1)\n",
    "#test_set_impu = test_set_impu.drop(\"Postcode\", axis=1)\n",
    "\n",
    "from sklearn.preprocessing import Imputer\n",
    "imputer = Imputer(strategy=\"median\")\n",
    "#housing_num = housing.drop(\"Price\", axis=1)\n",
    "imputer.fit(test_set_impu)\n",
    "\n",
    "imputer.statistics_\n",
    "\n",
    "\n",
    "X_test = imputer.transform(test_set_impu)\n",
    "housing_transformed_test = pd.DataFrame(X, columns=test_set_impu.columns)\n",
    "#print(len(housing_transformed_test), \"housing_transformed_trained \")"
   ]
  },
  {
   "cell_type": "code",
   "execution_count": null,
   "metadata": {},
   "outputs": [],
   "source": []
  },
  {
   "cell_type": "code",
   "execution_count": 51,
   "metadata": {},
   "outputs": [
    {
     "name": "stdout",
     "output_type": "stream",
     "text": [
      "Predictions: [ 841117.23483505  647529.17786605  774537.04727212 ...  906971.57502187\n",
      " 1676170.01224843 1096917.52447159]\n"
     ]
    }
   ],
   "source": [
    "#dividing test into X and Y\n",
    "\n",
    "housing_test_X = housing_transformed_test.drop(\"Price\", axis=1)\n",
    "housing_test_Y = housing_transformed_test[\"Price\"].copy()\n",
    "\n",
    "\n",
    "print(\"Predictions:\", lin_reg.predict(housing_test_X))\n",
    "\n",
    "#print(\"Labels:\", list(housing_test_Y))"
   ]
  },
  {
   "cell_type": "code",
   "execution_count": null,
   "metadata": {},
   "outputs": [],
   "source": []
  },
  {
   "cell_type": "code",
   "execution_count": 52,
   "metadata": {},
   "outputs": [
    {
     "data": {
      "text/plain": [
       "479433.85317980824"
      ]
     },
     "execution_count": 52,
     "metadata": {},
     "output_type": "execute_result"
    }
   ],
   "source": [
    "# Now we shall compare the test predicted Y with the test actual Y (which is is just one price column)\n",
    "\n",
    "import numpy as np\n",
    "from sklearn.metrics import mean_squared_error\n",
    "test_Y_predicted=lin_reg.predict(housing_test_X)\n",
    "\n",
    "lin_mse = mean_squared_error(housing_test_Y, test_Y_predicted)\n",
    "lin_rmse = np.sqrt(lin_mse)\n",
    "lin_rmse"
   ]
  },
  {
   "cell_type": "code",
   "execution_count": 53,
   "metadata": {},
   "outputs": [
    {
     "data": {
      "image/png": "[encoded data removed]",
      "text/plain": [
       "<Figure size 432x288 with 1 Axes>"
      ]
     },
     "metadata": {
      "needs_background": "light"
     },
     "output_type": "display_data"
    }
   ],
   "source": [
    "import matplotlib.pyplot as plt\n",
    "\n",
    "plt.scatter(housing_test_Y, test_Y_predicted)\n",
    "plt.xlabel(\"Prices: $Y_i$\")\n",
    "plt.ylabel(\"Predicted prices: $\\hat{Y}_i$\")\n",
    "plt.title(\"Prices vs Predicted prices: $Y_i$ vs $\\hat{Y}_i$\")\n",
    "plt.show()"
   ]
  },
  {
   "cell_type": "code",
   "execution_count": 54,
   "metadata": {
    "scrolled": true
   },
   "outputs": [],
   "source": [
    "#housing.describe()"
   ]
  },
  {
   "cell_type": "code",
   "execution_count": 55,
   "metadata": {
    "scrolled": true
   },
   "outputs": [
    {
     "data": {
      "text/plain": [
       "194788.84988735922"
      ]
     },
     "execution_count": 55,
     "metadata": {},
     "output_type": "execute_result"
    }
   ],
   "source": [
    "Test_Y_predicted_TREE=tree_reg.predict(housing_test_X)\n",
    "\n",
    "tree_mse = mean_squared_error(housing_test_Y, Test_Y_predicted_TREE)\n",
    "tree_rmse = np.sqrt(tree_mse)\n",
    "tree_rmse"
   ]
  },
  {
   "cell_type": "code",
   "execution_count": 56,
   "metadata": {},
   "outputs": [
    {
     "data": {
      "image/png": "[encoded data removed]",
      "text/plain": [
       "<Figure size 432x288 with 1 Axes>"
      ]
     },
     "metadata": {
      "needs_background": "light"
     },
     "output_type": "display_data"
    }
   ],
   "source": [
    "import matplotlib.pyplot as plt\n",
    "\n",
    "plt.scatter(housing_test_Y, Test_Y_predicted_TREE)\n",
    "plt.xlabel(\"Prices: $Y_i$\")\n",
    "plt.ylabel(\"Predicted prices: $\\hat{Y}_i$\")\n",
    "plt.title(\"Prices vs Predicted prices: $Y_i$ vs $\\hat{Y}_i$\")\n",
    "plt.show()"
   ]
  },
  {
   "cell_type": "code",
   "execution_count": 64,
   "metadata": {},
   "outputs": [
    {
     "data": {
      "text/plain": [
       "GridSearchCV(cv=5, error_score='raise',\n",
       "       estimator=RandomForestRegressor(bootstrap=True, criterion='mse', max_depth=None,\n",
       "           max_features='auto', max_leaf_nodes=None,\n",
       "           min_impurity_decrease=0.0, min_impurity_split=None,\n",
       "           min_samples_leaf=1, min_samples_split=2,\n",
       "           min_weight_fraction_leaf=0.0, n_estimators=10, n_jobs=1,\n",
       "           oob_score=False, random_state=42, verbose=0, warm_start=False),\n",
       "       fit_params=None, iid=True, n_jobs=1,\n",
       "       param_grid=[{'n_estimators': [3, 10, 30], 'max_features': [2, 4, 6, 8]}, {'bootstrap': [False], 'n_estimators': [3, 10], 'max_features': [2, 3, 4]}],\n",
       "       pre_dispatch='2*n_jobs', refit=True, return_train_score=True,\n",
       "       scoring='neg_mean_squared_error', verbose=0)"
      ]
     },
     "execution_count": 64,
     "metadata": {},
     "output_type": "execute_result"
    }
   ],
   "source": [
    "#GRidsearch on Forrest_Regressor\n",
    "from sklearn.model_selection import GridSearchCV\n",
    "\n",
    "param_grid = [\n",
    "    # try 12 (3×4) combinations of hyperparameters\n",
    "    {'n_estimators': [3, 10, 30], 'max_features': [2, 4, 6, 8]},\n",
    "    # then try 6 (2×3) combinations with bootstrap set as False\n",
    "    {'bootstrap': [False], 'n_estimators': [3, 10], 'max_features': [2, 3, 4]},\n",
    "  ]\n",
    "\n",
    "forest_reg = RandomForestRegressor(random_state=42)\n",
    "# train across 5 folds, that's a total of (12+6)*5=90 rounds of training \n",
    "grid_search = GridSearchCV(forest_reg, param_grid, cv=5,\n",
    "                           scoring='neg_mean_squared_error', return_train_score=True)\n",
    "grid_search.fit(housing_train_X, housing_train_Y)"
   ]
  },
  {
   "cell_type": "code",
   "execution_count": 60,
   "metadata": {},
   "outputs": [
    {
     "data": {
      "text/plain": [
       "{'max_features': 4, 'n_estimators': 30}"
      ]
     },
     "execution_count": 60,
     "metadata": {},
     "output_type": "execute_result"
    }
   ],
   "source": [
    "grid_search.best_params_"
   ]
  },
  {
   "cell_type": "code",
   "execution_count": 61,
   "metadata": {},
   "outputs": [
    {
     "data": {
      "text/plain": [
       "RandomForestRegressor(bootstrap=True, criterion='mse', max_depth=None,\n",
       "           max_features=4, max_leaf_nodes=None, min_impurity_decrease=0.0,\n",
       "           min_impurity_split=None, min_samples_leaf=1,\n",
       "           min_samples_split=2, min_weight_fraction_leaf=0.0,\n",
       "           n_estimators=30, n_jobs=1, oob_score=False, random_state=42,\n",
       "           verbose=0, warm_start=False)"
      ]
     },
     "execution_count": 61,
     "metadata": {},
     "output_type": "execute_result"
    }
   ],
   "source": [
    "grid_search.best_estimator_"
   ]
  },
  {
   "cell_type": "code",
   "execution_count": 62,
   "metadata": {},
   "outputs": [
    {
     "name": "stdout",
     "output_type": "stream",
     "text": [
      "506376.41402603284 {'max_features': 2, 'n_estimators': 3}\n",
      "466214.6563153962 {'max_features': 2, 'n_estimators': 10}\n",
      "454618.8899877664 {'max_features': 2, 'n_estimators': 30}\n",
      "497429.7873942504 {'max_features': 4, 'n_estimators': 3}\n",
      "462530.8289484516 {'max_features': 4, 'n_estimators': 10}\n",
      "453698.44546889054 {'max_features': 4, 'n_estimators': 30}\n",
      "500042.6458114172 {'max_features': 6, 'n_estimators': 3}\n",
      "464239.8197249318 {'max_features': 6, 'n_estimators': 10}\n",
      "454629.76205442444 {'max_features': 6, 'n_estimators': 30}\n",
      "504057.9261268424 {'max_features': 8, 'n_estimators': 3}\n",
      "463640.62169426744 {'max_features': 8, 'n_estimators': 10}\n",
      "453777.71404637326 {'max_features': 8, 'n_estimators': 30}\n",
      "506519.80440073594 {'bootstrap': False, 'max_features': 2, 'n_estimators': 3}\n",
      "471849.38801801595 {'bootstrap': False, 'max_features': 2, 'n_estimators': 10}\n",
      "496835.7215484447 {'bootstrap': False, 'max_features': 3, 'n_estimators': 3}\n",
      "472963.1115642702 {'bootstrap': False, 'max_features': 3, 'n_estimators': 10}\n",
      "496939.67536890984 {'bootstrap': False, 'max_features': 4, 'n_estimators': 3}\n",
      "471144.8435824393 {'bootstrap': False, 'max_features': 4, 'n_estimators': 10}\n"
     ]
    }
   ],
   "source": [
    "cvres = grid_search.cv_results_\n",
    "for mean_score, params in zip(cvres[\"mean_test_score\"], cvres[\"params\"]):\n",
    "    print(np.sqrt(-mean_score), params)"
   ]
  },
  {
   "cell_type": "code",
   "execution_count": 65,
   "metadata": {},
   "outputs": [
    {
     "data": {
      "text/plain": [
       "247781.8678464364"
      ]
     },
     "execution_count": 65,
     "metadata": {},
     "output_type": "execute_result"
    }
   ],
   "source": [
    "#lowest 453698.44546889054 {'max_features': 4, 'n_estimators': 30}\n",
    "\n",
    "final_model=grid_search.best_estimator_\n",
    "\n",
    "final_predictions=final_model.predict(housing_test_X)\n",
    "\n",
    "final_mse = mean_squared_error(housing_test_Y, final_predictions)\n",
    "final_rmse = np.sqrt(final_mse)\n",
    "\n",
    "final_rmse"
   ]
  },
  {
   "cell_type": "code",
   "execution_count": null,
   "metadata": {},
   "outputs": [],
   "source": []
  }
 ],
 "metadata": {
  "kernelspec": {
   "display_name": "Python 3",
   "language": "python",
   "name": "python3"
  },
  "language_info": {
   "codemirror_mode": {
    "name": "ipython",
    "version": 3
   },
   "file_extension": ".py",
   "mimetype": "text/x-python",
   "name": "python",
   "nbconvert_exporter": "python",
   "pygments_lexer": "ipython3",
   "version": "3.6.5"
  }
 },
 "nbformat": 4,
 "nbformat_minor": 2
}
